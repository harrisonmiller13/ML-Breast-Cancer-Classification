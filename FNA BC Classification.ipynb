{
 "cells": [
  {
   "cell_type": "markdown",
   "metadata": {
    "colab_type": "text",
    "id": "kkf7AxLiOkZT"
   },
   "source": [
    "### Imports"
   ]
  },
  {
   "cell_type": "code",
   "execution_count": 33,
   "metadata": {
    "ExecuteTime": {
     "end_time": "2019-08-06T13:27:34.638002Z",
     "start_time": "2019-08-06T13:27:30.044121Z"
    },
    "colab": {},
    "colab_type": "code",
    "id": "gE9oJWGp349j"
   },
   "outputs": [],
   "source": [
    "import pandas as pd\n",
    "import matplotlib.pyplot as plt\n",
    "import seaborn as sns  \n",
    "import numpy as np\n",
    "import tpot as tp\n",
    "import imblearn\n",
    "from collections import Counter\n",
    "from tpot import TPOTClassifier\n",
    "from imblearn.under_sampling import RandomUnderSampler, TomekLinks, ClusterCentroids \n",
    "from imblearn.over_sampling import RandomOverSampler, SMOTE, ADASYN \n",
    "from imblearn.combine import SMOTETomek, SMOTEENN\n",
    "from sklearn.decomposition import PCA\n",
    "from sklearn.model_selection import train_test_split\n",
    "from sklearn.metrics import accuracy_score, confusion_matrix, classification_report\n",
    "from sklearn.tree import DecisionTreeClassifier\n",
    "from sklearn.ensemble import BaggingClassifier, RandomForestClassifier, ExtraTreesClassifier\n",
    "from xgboost import XGBClassifier\n",
    "sns.set()"
   ]
  },
  {
   "cell_type": "markdown",
   "metadata": {
    "colab_type": "text",
    "id": "o1ViKVitOfVn"
   },
   "source": [
    "### Load data into pandas dataframe"
   ]
  },
  {
   "cell_type": "code",
   "execution_count": 2,
   "metadata": {
    "ExecuteTime": {
     "end_time": "2019-08-06T13:27:36.513073Z",
     "start_time": "2019-08-06T13:27:36.467211Z"
    },
    "colab": {
     "base_uri": "https://localhost:8080/",
     "height": 221
    },
    "colab_type": "code",
    "collapsed": true,
    "executionInfo": {
     "elapsed": 460,
     "status": "ok",
     "timestamp": 1565025431966,
     "user": {
      "displayName": "Harrison Miller",
      "photoUrl": "https://lh3.googleusercontent.com/-mtrv6ozYIEo/AAAAAAAAAAI/AAAAAAAABHM/XEWtt1y0c-U/s64/photo.jpg",
      "userId": "01074083115709093470"
     },
     "user_tz": 240
    },
    "id": "dG1-SeHG7qZe",
    "jupyter": {
     "outputs_hidden": true,
     "source_hidden": true
    },
    "outputId": "7ddc9526-0c02-417c-f473-a044793c3915"
   },
   "outputs": [
    {
     "data": {
      "text/html": [
       "<div>\n",
       "<style scoped>\n",
       "    .dataframe tbody tr th:only-of-type {\n",
       "        vertical-align: middle;\n",
       "    }\n",
       "\n",
       "    .dataframe tbody tr th {\n",
       "        vertical-align: top;\n",
       "    }\n",
       "\n",
       "    .dataframe thead th {\n",
       "        text-align: right;\n",
       "    }\n",
       "</style>\n",
       "<table border=\"1\" class=\"dataframe\">\n",
       "  <thead>\n",
       "    <tr style=\"text-align: right;\">\n",
       "      <th></th>\n",
       "      <th>id_number</th>\n",
       "      <th>Clump Thickness</th>\n",
       "      <th>Uniformity of Cell Size</th>\n",
       "      <th>Uniformity of Cell Shape</th>\n",
       "      <th>Marginal Adhesion</th>\n",
       "      <th>Single Epithelial Cell Size</th>\n",
       "      <th>Bare Nuclei</th>\n",
       "      <th>Bland Chromatin</th>\n",
       "      <th>Normal Nucleoli</th>\n",
       "      <th>Mitosis</th>\n",
       "      <th>Class</th>\n",
       "    </tr>\n",
       "  </thead>\n",
       "  <tbody>\n",
       "    <tr>\n",
       "      <th>0</th>\n",
       "      <td>1000025</td>\n",
       "      <td>5</td>\n",
       "      <td>1</td>\n",
       "      <td>1</td>\n",
       "      <td>1</td>\n",
       "      <td>2</td>\n",
       "      <td>1</td>\n",
       "      <td>3</td>\n",
       "      <td>1</td>\n",
       "      <td>1</td>\n",
       "      <td>2</td>\n",
       "    </tr>\n",
       "    <tr>\n",
       "      <th>1</th>\n",
       "      <td>1002945</td>\n",
       "      <td>5</td>\n",
       "      <td>4</td>\n",
       "      <td>4</td>\n",
       "      <td>5</td>\n",
       "      <td>7</td>\n",
       "      <td>10</td>\n",
       "      <td>3</td>\n",
       "      <td>2</td>\n",
       "      <td>1</td>\n",
       "      <td>2</td>\n",
       "    </tr>\n",
       "    <tr>\n",
       "      <th>2</th>\n",
       "      <td>1015425</td>\n",
       "      <td>3</td>\n",
       "      <td>1</td>\n",
       "      <td>1</td>\n",
       "      <td>1</td>\n",
       "      <td>2</td>\n",
       "      <td>2</td>\n",
       "      <td>3</td>\n",
       "      <td>1</td>\n",
       "      <td>1</td>\n",
       "      <td>2</td>\n",
       "    </tr>\n",
       "    <tr>\n",
       "      <th>3</th>\n",
       "      <td>1016277</td>\n",
       "      <td>6</td>\n",
       "      <td>8</td>\n",
       "      <td>8</td>\n",
       "      <td>1</td>\n",
       "      <td>3</td>\n",
       "      <td>4</td>\n",
       "      <td>3</td>\n",
       "      <td>7</td>\n",
       "      <td>1</td>\n",
       "      <td>2</td>\n",
       "    </tr>\n",
       "    <tr>\n",
       "      <th>4</th>\n",
       "      <td>1017023</td>\n",
       "      <td>4</td>\n",
       "      <td>1</td>\n",
       "      <td>1</td>\n",
       "      <td>3</td>\n",
       "      <td>2</td>\n",
       "      <td>1</td>\n",
       "      <td>3</td>\n",
       "      <td>1</td>\n",
       "      <td>1</td>\n",
       "      <td>2</td>\n",
       "    </tr>\n",
       "  </tbody>\n",
       "</table>\n",
       "</div>"
      ],
      "text/plain": [
       "   id_number  Clump Thickness  Uniformity of Cell Size  \\\n",
       "0    1000025                5                        1   \n",
       "1    1002945                5                        4   \n",
       "2    1015425                3                        1   \n",
       "3    1016277                6                        8   \n",
       "4    1017023                4                        1   \n",
       "\n",
       "   Uniformity of Cell Shape  Marginal Adhesion  Single Epithelial Cell Size  \\\n",
       "0                         1                  1                            2   \n",
       "1                         4                  5                            7   \n",
       "2                         1                  1                            2   \n",
       "3                         8                  1                            3   \n",
       "4                         1                  3                            2   \n",
       "\n",
       "  Bare Nuclei  Bland Chromatin  Normal Nucleoli  Mitosis  Class  \n",
       "0           1                3                1        1      2  \n",
       "1          10                3                2        1      2  \n",
       "2           2                3                1        1      2  \n",
       "3           4                3                7        1      2  \n",
       "4           1                3                1        1      2  "
      ]
     },
     "execution_count": 2,
     "metadata": {},
     "output_type": "execute_result"
    }
   ],
   "source": [
    "bc_data = pd.read_csv('breast-cancer-wisconsin.data',names=['id_number','Clump Thickness', 'Uniformity of Cell Size',\n",
    "                 'Uniformity of Cell Shape', 'Marginal Adhesion', \n",
    "                 'Single Epithelial Cell Size','Bare Nuclei',\n",
    "                 'Bland Chromatin','Normal Nucleoli','Mitosis','Class'])\n",
    "bc_data.head()"
   ]
  },
  {
   "cell_type": "code",
   "execution_count": 66,
   "metadata": {},
   "outputs": [],
   "source": [
    "bc2 = pd.read_csv('bc_data.csv', header = [1])"
   ]
  },
  {
   "cell_type": "code",
   "execution_count": 67,
   "metadata": {},
   "outputs": [
    {
     "data": {
      "text/plain": [
       "Index(['id_number', 'Clump Thickness', 'Uniformity of Cell Size',\n",
       "       'Uniformity of Cell Shape', 'Marginal Adhesion',\n",
       "       'Single Epithelial Cell Size', 'Bare Nuclei', 'Bland Chromatin',\n",
       "       'Normal Nucleoli', 'Mitosis', 'Class', 'id_number.1', 'Diagnosis',\n",
       "       'radius', 'mean_radius', 'texture', 'mean_texture', 'perimeter',\n",
       "       'mean_perimeter', 'area', 'mean_area', 'smoothness', 'mean_smoothness',\n",
       "       'compactness', 'mean_compactness', 'concavity', 'mean_concavity',\n",
       "       'concave_points', 'mean_concave_points', 'symmetry', 'mean_symmetry',\n",
       "       'fractal_dimension', 'mean_fractal_dimension'],\n",
       "      dtype='object')"
      ]
     },
     "execution_count": 67,
     "metadata": {},
     "output_type": "execute_result"
    }
   ],
   "source": [
    "bc2.columns"
   ]
  },
  {
   "cell_type": "markdown",
   "metadata": {
    "colab_type": "text",
    "id": "T6l0nHMpOVN9"
   },
   "source": [
    "### visualize the target class numbers to check for balance of classifier column"
   ]
  },
  {
   "cell_type": "code",
   "execution_count": 68,
   "metadata": {
    "ExecuteTime": {
     "end_time": "2019-08-06T13:27:39.837013Z",
     "start_time": "2019-08-06T13:27:39.602492Z"
    },
    "colab": {
     "base_uri": "https://localhost:8080/",
     "height": 332
    },
    "colab_type": "code",
    "executionInfo": {
     "elapsed": 532,
     "status": "ok",
     "timestamp": 1565025438068,
     "user": {
      "displayName": "Harrison Miller",
      "photoUrl": "https://lh3.googleusercontent.com/-mtrv6ozYIEo/AAAAAAAAAAI/AAAAAAAABHM/XEWtt1y0c-U/s64/photo.jpg",
      "userId": "01074083115709093470"
     },
     "user_tz": 240
    },
    "id": "uzR6AHBy82iV",
    "outputId": "dc30e0cd-2382-492f-ed04-fdfe4c4ab020"
   },
   "outputs": [
    {
     "name": "stdout",
     "output_type": "stream",
     "text": [
      "Benign: 458\n",
      "Malignant: 241\n",
      "Proportion: 1.9 : 1\n"
     ]
    },
    {
     "data": {
      "image/png": "[encoded data removed]",
      "text/plain": [
       "<Figure size 432x288 with 1 Axes>"
      ]
     },
     "metadata": {},
     "output_type": "display_data"
    }
   ],
   "source": [
    "target_count = bc2.Class.value_counts()\n",
    "print('Benign:', target_count[2])\n",
    "print('Malignant:', target_count[4])\n",
    "print('Proportion:', round(target_count[2] / target_count[4], 2), ': 1')\n",
    "\n",
    "target_count.plot(kind='bar', title='Count (target)');"
   ]
  },
  {
   "cell_type": "markdown",
   "metadata": {
    "colab_type": "text",
    "id": "-pcPDHtYOSAB"
   },
   "source": [
    "Check data types in the dataframe"
   ]
  },
  {
   "cell_type": "code",
   "execution_count": 69,
   "metadata": {
    "ExecuteTime": {
     "end_time": "2019-08-06T13:27:44.118814Z",
     "start_time": "2019-08-06T13:27:44.104032Z"
    },
    "colab": {
     "base_uri": "https://localhost:8080/",
     "height": 221
    },
    "colab_type": "code",
    "executionInfo": {
     "elapsed": 475,
     "status": "ok",
     "timestamp": 1565011045970,
     "user": {
      "displayName": "Harrison Miller",
      "photoUrl": "https://lh3.googleusercontent.com/-mtrv6ozYIEo/AAAAAAAAAAI/AAAAAAAABHM/XEWtt1y0c-U/s64/photo.jpg",
      "userId": "01074083115709093470"
     },
     "user_tz": 240
    },
    "id": "bI3En0wPAwYQ",
    "outputId": "85d56913-4e05-4dbd-9667-0c76756cc930"
   },
   "outputs": [
    {
     "data": {
      "text/plain": [
       "id_number                        int64\n",
       "Clump Thickness                  int64\n",
       "Uniformity of Cell Size          int64\n",
       "Uniformity of Cell Shape         int64\n",
       "Marginal Adhesion                int64\n",
       "Single Epithelial Cell Size      int64\n",
       "Bare Nuclei                     object\n",
       "Bland Chromatin                  int64\n",
       "Normal Nucleoli                  int64\n",
       "Mitosis                          int64\n",
       "Class                            int64\n",
       "id_number.1                    float64\n",
       "Diagnosis                       object\n",
       "radius                         float64\n",
       "mean_radius                    float64\n",
       "texture                        float64\n",
       "mean_texture                   float64\n",
       "perimeter                      float64\n",
       "mean_perimeter                 float64\n",
       "area                           float64\n",
       "mean_area                      float64\n",
       "smoothness                     float64\n",
       "mean_smoothness                float64\n",
       "compactness                    float64\n",
       "mean_compactness               float64\n",
       "concavity                      float64\n",
       "mean_concavity                 float64\n",
       "concave_points                 float64\n",
       "mean_concave_points            float64\n",
       "symmetry                       float64\n",
       "mean_symmetry                  float64\n",
       "fractal_dimension              float64\n",
       "mean_fractal_dimension         float64\n",
       "dtype: object"
      ]
     },
     "execution_count": 69,
     "metadata": {},
     "output_type": "execute_result"
    }
   ],
   "source": [
    "bc2.dtypes"
   ]
  },
  {
   "cell_type": "markdown",
   "metadata": {
    "colab_type": "text",
    "id": "SHk_6vN1ODvM"
   },
   "source": [
    "create a target array and remove it from the data table"
   ]
  },
  {
   "cell_type": "markdown",
   "metadata": {
    "colab_type": "text",
    "id": "4_OCDMF0de1N"
   },
   "source": [
    "get dummies for bare nuclei"
   ]
  },
  {
   "cell_type": "code",
   "execution_count": 16,
   "metadata": {},
   "outputs": [],
   "source": []
  },
  {
   "cell_type": "code",
   "execution_count": 21,
   "metadata": {},
   "outputs": [],
   "source": []
  },
  {
   "cell_type": "code",
   "execution_count": 70,
   "metadata": {
    "ExecuteTime": {
     "end_time": "2019-08-06T13:27:47.365226Z",
     "start_time": "2019-08-06T13:27:47.246606Z"
    },
    "colab": {},
    "colab_type": "code",
    "id": "Y0jxP1KhdDg_"
   },
   "outputs": [],
   "source": [
    "\n",
    "bc_data_with_dummies = pd.get_dummies(bc2)"
   ]
  },
  {
   "cell_type": "code",
   "execution_count": 71,
   "metadata": {},
   "outputs": [
    {
     "data": {
      "text/plain": [
       "Index(['id_number', 'Clump Thickness', 'Uniformity of Cell Size',\n",
       "       'Uniformity of Cell Shape', 'Marginal Adhesion',\n",
       "       'Single Epithelial Cell Size', 'Bland Chromatin', 'Normal Nucleoli',\n",
       "       'Mitosis', 'Class', 'id_number.1', 'radius', 'mean_radius', 'texture',\n",
       "       'mean_texture', 'perimeter', 'mean_perimeter', 'area', 'mean_area',\n",
       "       'smoothness', 'mean_smoothness', 'compactness', 'mean_compactness',\n",
       "       'concavity', 'mean_concavity', 'concave_points', 'mean_concave_points',\n",
       "       'symmetry', 'mean_symmetry', 'fractal_dimension',\n",
       "       'mean_fractal_dimension', 'Bare Nuclei_1', 'Bare Nuclei_10',\n",
       "       'Bare Nuclei_2', 'Bare Nuclei_3', 'Bare Nuclei_4', 'Bare Nuclei_5',\n",
       "       'Bare Nuclei_6', 'Bare Nuclei_7', 'Bare Nuclei_8', 'Bare Nuclei_9',\n",
       "       'Bare Nuclei_?', 'Diagnosis_B', 'Diagnosis_M'],\n",
       "      dtype='object')"
      ]
     },
     "execution_count": 71,
     "metadata": {},
     "output_type": "execute_result"
    }
   ],
   "source": [
    "bc_data_with_dummies.columns"
   ]
  },
  {
   "cell_type": "code",
   "execution_count": 72,
   "metadata": {
    "ExecuteTime": {
     "end_time": "2019-08-06T13:27:48.239158Z",
     "start_time": "2019-08-06T13:27:48.203955Z"
    },
    "colab": {
     "base_uri": "https://localhost:8080/",
     "height": 238
    },
    "colab_type": "code",
    "executionInfo": {
     "elapsed": 468,
     "status": "ok",
     "timestamp": 1565011055446,
     "user": {
      "displayName": "Harrison Miller",
      "photoUrl": "https://lh3.googleusercontent.com/-mtrv6ozYIEo/AAAAAAAAAAI/AAAAAAAABHM/XEWtt1y0c-U/s64/photo.jpg",
      "userId": "01074083115709093470"
     },
     "user_tz": 240
    },
    "id": "VjlOgkLxBpGU",
    "outputId": "ff2a3c61-1157-40fb-f058-6b7eab7366f1"
   },
   "outputs": [
    {
     "data": {
      "text/html": [
       "<div>\n",
       "<style scoped>\n",
       "    .dataframe tbody tr th:only-of-type {\n",
       "        vertical-align: middle;\n",
       "    }\n",
       "\n",
       "    .dataframe tbody tr th {\n",
       "        vertical-align: top;\n",
       "    }\n",
       "\n",
       "    .dataframe thead th {\n",
       "        text-align: right;\n",
       "    }\n",
       "</style>\n",
       "<table border=\"1\" class=\"dataframe\">\n",
       "  <thead>\n",
       "    <tr style=\"text-align: right;\">\n",
       "      <th></th>\n",
       "      <th>id_number</th>\n",
       "      <th>Clump Thickness</th>\n",
       "      <th>Uniformity of Cell Size</th>\n",
       "      <th>Uniformity of Cell Shape</th>\n",
       "      <th>Marginal Adhesion</th>\n",
       "      <th>Single Epithelial Cell Size</th>\n",
       "      <th>Bland Chromatin</th>\n",
       "      <th>Normal Nucleoli</th>\n",
       "      <th>Mitosis</th>\n",
       "      <th>id_number.1</th>\n",
       "      <th>...</th>\n",
       "      <th>Bare Nuclei_3</th>\n",
       "      <th>Bare Nuclei_4</th>\n",
       "      <th>Bare Nuclei_5</th>\n",
       "      <th>Bare Nuclei_6</th>\n",
       "      <th>Bare Nuclei_7</th>\n",
       "      <th>Bare Nuclei_8</th>\n",
       "      <th>Bare Nuclei_9</th>\n",
       "      <th>Bare Nuclei_?</th>\n",
       "      <th>Diagnosis_B</th>\n",
       "      <th>Diagnosis_M</th>\n",
       "    </tr>\n",
       "  </thead>\n",
       "  <tbody>\n",
       "    <tr>\n",
       "      <th>0</th>\n",
       "      <td>1000025</td>\n",
       "      <td>5</td>\n",
       "      <td>1</td>\n",
       "      <td>1</td>\n",
       "      <td>1</td>\n",
       "      <td>2</td>\n",
       "      <td>3</td>\n",
       "      <td>1</td>\n",
       "      <td>1</td>\n",
       "      <td>842302.0</td>\n",
       "      <td>...</td>\n",
       "      <td>0</td>\n",
       "      <td>0</td>\n",
       "      <td>0</td>\n",
       "      <td>0</td>\n",
       "      <td>0</td>\n",
       "      <td>0</td>\n",
       "      <td>0</td>\n",
       "      <td>0</td>\n",
       "      <td>0</td>\n",
       "      <td>1</td>\n",
       "    </tr>\n",
       "    <tr>\n",
       "      <th>1</th>\n",
       "      <td>1002945</td>\n",
       "      <td>5</td>\n",
       "      <td>4</td>\n",
       "      <td>4</td>\n",
       "      <td>5</td>\n",
       "      <td>7</td>\n",
       "      <td>3</td>\n",
       "      <td>2</td>\n",
       "      <td>1</td>\n",
       "      <td>842517.0</td>\n",
       "      <td>...</td>\n",
       "      <td>0</td>\n",
       "      <td>0</td>\n",
       "      <td>0</td>\n",
       "      <td>0</td>\n",
       "      <td>0</td>\n",
       "      <td>0</td>\n",
       "      <td>0</td>\n",
       "      <td>0</td>\n",
       "      <td>0</td>\n",
       "      <td>1</td>\n",
       "    </tr>\n",
       "    <tr>\n",
       "      <th>2</th>\n",
       "      <td>1015425</td>\n",
       "      <td>3</td>\n",
       "      <td>1</td>\n",
       "      <td>1</td>\n",
       "      <td>1</td>\n",
       "      <td>2</td>\n",
       "      <td>3</td>\n",
       "      <td>1</td>\n",
       "      <td>1</td>\n",
       "      <td>84300903.0</td>\n",
       "      <td>...</td>\n",
       "      <td>0</td>\n",
       "      <td>0</td>\n",
       "      <td>0</td>\n",
       "      <td>0</td>\n",
       "      <td>0</td>\n",
       "      <td>0</td>\n",
       "      <td>0</td>\n",
       "      <td>0</td>\n",
       "      <td>0</td>\n",
       "      <td>1</td>\n",
       "    </tr>\n",
       "    <tr>\n",
       "      <th>3</th>\n",
       "      <td>1016277</td>\n",
       "      <td>6</td>\n",
       "      <td>8</td>\n",
       "      <td>8</td>\n",
       "      <td>1</td>\n",
       "      <td>3</td>\n",
       "      <td>3</td>\n",
       "      <td>7</td>\n",
       "      <td>1</td>\n",
       "      <td>84348301.0</td>\n",
       "      <td>...</td>\n",
       "      <td>0</td>\n",
       "      <td>1</td>\n",
       "      <td>0</td>\n",
       "      <td>0</td>\n",
       "      <td>0</td>\n",
       "      <td>0</td>\n",
       "      <td>0</td>\n",
       "      <td>0</td>\n",
       "      <td>0</td>\n",
       "      <td>1</td>\n",
       "    </tr>\n",
       "    <tr>\n",
       "      <th>4</th>\n",
       "      <td>1017023</td>\n",
       "      <td>4</td>\n",
       "      <td>1</td>\n",
       "      <td>1</td>\n",
       "      <td>3</td>\n",
       "      <td>2</td>\n",
       "      <td>3</td>\n",
       "      <td>1</td>\n",
       "      <td>1</td>\n",
       "      <td>84358402.0</td>\n",
       "      <td>...</td>\n",
       "      <td>0</td>\n",
       "      <td>0</td>\n",
       "      <td>0</td>\n",
       "      <td>0</td>\n",
       "      <td>0</td>\n",
       "      <td>0</td>\n",
       "      <td>0</td>\n",
       "      <td>0</td>\n",
       "      <td>0</td>\n",
       "      <td>1</td>\n",
       "    </tr>\n",
       "  </tbody>\n",
       "</table>\n",
       "<p>5 rows × 43 columns</p>\n",
       "</div>"
      ],
      "text/plain": [
       "   id_number  Clump Thickness  Uniformity of Cell Size  \\\n",
       "0    1000025                5                        1   \n",
       "1    1002945                5                        4   \n",
       "2    1015425                3                        1   \n",
       "3    1016277                6                        8   \n",
       "4    1017023                4                        1   \n",
       "\n",
       "   Uniformity of Cell Shape  Marginal Adhesion  Single Epithelial Cell Size  \\\n",
       "0                         1                  1                            2   \n",
       "1                         4                  5                            7   \n",
       "2                         1                  1                            2   \n",
       "3                         8                  1                            3   \n",
       "4                         1                  3                            2   \n",
       "\n",
       "   Bland Chromatin  Normal Nucleoli  Mitosis  id_number.1  ...  Bare Nuclei_3  \\\n",
       "0                3                1        1     842302.0  ...              0   \n",
       "1                3                2        1     842517.0  ...              0   \n",
       "2                3                1        1   84300903.0  ...              0   \n",
       "3                3                7        1   84348301.0  ...              0   \n",
       "4                3                1        1   84358402.0  ...              0   \n",
       "\n",
       "   Bare Nuclei_4  Bare Nuclei_5  Bare Nuclei_6  Bare Nuclei_7  Bare Nuclei_8  \\\n",
       "0              0              0              0              0              0   \n",
       "1              0              0              0              0              0   \n",
       "2              0              0              0              0              0   \n",
       "3              1              0              0              0              0   \n",
       "4              0              0              0              0              0   \n",
       "\n",
       "   Bare Nuclei_9  Bare Nuclei_?  Diagnosis_B  Diagnosis_M  \n",
       "0              0              0            0            1  \n",
       "1              0              0            0            1  \n",
       "2              0              0            0            1  \n",
       "3              0              0            0            1  \n",
       "4              0              0            0            1  \n",
       "\n",
       "[5 rows x 43 columns]"
      ]
     },
     "execution_count": 72,
     "metadata": {},
     "output_type": "execute_result"
    }
   ],
   "source": [
    "target = bc_data_with_dummies['Class']\n",
    "bc_data_with_dummies.drop('Class', axis = 1, inplace = True)\n",
    "bc_data_with_dummies.head()"
   ]
  },
  {
   "cell_type": "markdown",
   "metadata": {
    "colab_type": "text",
    "id": "NkZbLvNIN_Sl"
   },
   "source": [
    "set index to id number"
   ]
  },
  {
   "cell_type": "code",
   "execution_count": 73,
   "metadata": {
    "ExecuteTime": {
     "end_time": "2019-08-06T13:27:55.213787Z",
     "start_time": "2019-08-06T13:27:55.197636Z"
    },
    "colab": {},
    "colab_type": "code",
    "id": "RtWcrcA9DH3y"
   },
   "outputs": [],
   "source": [
    "bc_data_with_dummies.set_index('id_number', inplace = True)"
   ]
  },
  {
   "cell_type": "code",
   "execution_count": 74,
   "metadata": {
    "ExecuteTime": {
     "end_time": "2019-08-06T13:27:56.055710Z",
     "start_time": "2019-08-06T13:27:56.036412Z"
    },
    "colab": {
     "base_uri": "https://localhost:8080/",
     "height": 269
    },
    "colab_type": "code",
    "executionInfo": {
     "elapsed": 926,
     "status": "ok",
     "timestamp": 1565011063021,
     "user": {
      "displayName": "Harrison Miller",
      "photoUrl": "https://lh3.googleusercontent.com/-mtrv6ozYIEo/AAAAAAAAAAI/AAAAAAAABHM/XEWtt1y0c-U/s64/photo.jpg",
      "userId": "01074083115709093470"
     },
     "user_tz": 240
    },
    "id": "DMv3eBj7DVeJ",
    "outputId": "b837e613-83e9-4770-8b1e-0b3f4de2f0d7"
   },
   "outputs": [
    {
     "data": {
      "text/html": [
       "<div>\n",
       "<style scoped>\n",
       "    .dataframe tbody tr th:only-of-type {\n",
       "        vertical-align: middle;\n",
       "    }\n",
       "\n",
       "    .dataframe tbody tr th {\n",
       "        vertical-align: top;\n",
       "    }\n",
       "\n",
       "    .dataframe thead th {\n",
       "        text-align: right;\n",
       "    }\n",
       "</style>\n",
       "<table border=\"1\" class=\"dataframe\">\n",
       "  <thead>\n",
       "    <tr style=\"text-align: right;\">\n",
       "      <th></th>\n",
       "      <th>Clump Thickness</th>\n",
       "      <th>Uniformity of Cell Size</th>\n",
       "      <th>Uniformity of Cell Shape</th>\n",
       "      <th>Marginal Adhesion</th>\n",
       "      <th>Single Epithelial Cell Size</th>\n",
       "      <th>Bland Chromatin</th>\n",
       "      <th>Normal Nucleoli</th>\n",
       "      <th>Mitosis</th>\n",
       "      <th>id_number.1</th>\n",
       "      <th>radius</th>\n",
       "      <th>...</th>\n",
       "      <th>Bare Nuclei_3</th>\n",
       "      <th>Bare Nuclei_4</th>\n",
       "      <th>Bare Nuclei_5</th>\n",
       "      <th>Bare Nuclei_6</th>\n",
       "      <th>Bare Nuclei_7</th>\n",
       "      <th>Bare Nuclei_8</th>\n",
       "      <th>Bare Nuclei_9</th>\n",
       "      <th>Bare Nuclei_?</th>\n",
       "      <th>Diagnosis_B</th>\n",
       "      <th>Diagnosis_M</th>\n",
       "    </tr>\n",
       "    <tr>\n",
       "      <th>id_number</th>\n",
       "      <th></th>\n",
       "      <th></th>\n",
       "      <th></th>\n",
       "      <th></th>\n",
       "      <th></th>\n",
       "      <th></th>\n",
       "      <th></th>\n",
       "      <th></th>\n",
       "      <th></th>\n",
       "      <th></th>\n",
       "      <th></th>\n",
       "      <th></th>\n",
       "      <th></th>\n",
       "      <th></th>\n",
       "      <th></th>\n",
       "      <th></th>\n",
       "      <th></th>\n",
       "      <th></th>\n",
       "      <th></th>\n",
       "      <th></th>\n",
       "      <th></th>\n",
       "    </tr>\n",
       "  </thead>\n",
       "  <tbody>\n",
       "    <tr>\n",
       "      <th>1000025</th>\n",
       "      <td>5</td>\n",
       "      <td>1</td>\n",
       "      <td>1</td>\n",
       "      <td>1</td>\n",
       "      <td>2</td>\n",
       "      <td>3</td>\n",
       "      <td>1</td>\n",
       "      <td>1</td>\n",
       "      <td>842302.0</td>\n",
       "      <td>17.99</td>\n",
       "      <td>...</td>\n",
       "      <td>0</td>\n",
       "      <td>0</td>\n",
       "      <td>0</td>\n",
       "      <td>0</td>\n",
       "      <td>0</td>\n",
       "      <td>0</td>\n",
       "      <td>0</td>\n",
       "      <td>0</td>\n",
       "      <td>0</td>\n",
       "      <td>1</td>\n",
       "    </tr>\n",
       "    <tr>\n",
       "      <th>1002945</th>\n",
       "      <td>5</td>\n",
       "      <td>4</td>\n",
       "      <td>4</td>\n",
       "      <td>5</td>\n",
       "      <td>7</td>\n",
       "      <td>3</td>\n",
       "      <td>2</td>\n",
       "      <td>1</td>\n",
       "      <td>842517.0</td>\n",
       "      <td>20.57</td>\n",
       "      <td>...</td>\n",
       "      <td>0</td>\n",
       "      <td>0</td>\n",
       "      <td>0</td>\n",
       "      <td>0</td>\n",
       "      <td>0</td>\n",
       "      <td>0</td>\n",
       "      <td>0</td>\n",
       "      <td>0</td>\n",
       "      <td>0</td>\n",
       "      <td>1</td>\n",
       "    </tr>\n",
       "    <tr>\n",
       "      <th>1015425</th>\n",
       "      <td>3</td>\n",
       "      <td>1</td>\n",
       "      <td>1</td>\n",
       "      <td>1</td>\n",
       "      <td>2</td>\n",
       "      <td>3</td>\n",
       "      <td>1</td>\n",
       "      <td>1</td>\n",
       "      <td>84300903.0</td>\n",
       "      <td>19.69</td>\n",
       "      <td>...</td>\n",
       "      <td>0</td>\n",
       "      <td>0</td>\n",
       "      <td>0</td>\n",
       "      <td>0</td>\n",
       "      <td>0</td>\n",
       "      <td>0</td>\n",
       "      <td>0</td>\n",
       "      <td>0</td>\n",
       "      <td>0</td>\n",
       "      <td>1</td>\n",
       "    </tr>\n",
       "    <tr>\n",
       "      <th>1016277</th>\n",
       "      <td>6</td>\n",
       "      <td>8</td>\n",
       "      <td>8</td>\n",
       "      <td>1</td>\n",
       "      <td>3</td>\n",
       "      <td>3</td>\n",
       "      <td>7</td>\n",
       "      <td>1</td>\n",
       "      <td>84348301.0</td>\n",
       "      <td>11.42</td>\n",
       "      <td>...</td>\n",
       "      <td>0</td>\n",
       "      <td>1</td>\n",
       "      <td>0</td>\n",
       "      <td>0</td>\n",
       "      <td>0</td>\n",
       "      <td>0</td>\n",
       "      <td>0</td>\n",
       "      <td>0</td>\n",
       "      <td>0</td>\n",
       "      <td>1</td>\n",
       "    </tr>\n",
       "    <tr>\n",
       "      <th>1017023</th>\n",
       "      <td>4</td>\n",
       "      <td>1</td>\n",
       "      <td>1</td>\n",
       "      <td>3</td>\n",
       "      <td>2</td>\n",
       "      <td>3</td>\n",
       "      <td>1</td>\n",
       "      <td>1</td>\n",
       "      <td>84358402.0</td>\n",
       "      <td>20.29</td>\n",
       "      <td>...</td>\n",
       "      <td>0</td>\n",
       "      <td>0</td>\n",
       "      <td>0</td>\n",
       "      <td>0</td>\n",
       "      <td>0</td>\n",
       "      <td>0</td>\n",
       "      <td>0</td>\n",
       "      <td>0</td>\n",
       "      <td>0</td>\n",
       "      <td>1</td>\n",
       "    </tr>\n",
       "  </tbody>\n",
       "</table>\n",
       "<p>5 rows × 42 columns</p>\n",
       "</div>"
      ],
      "text/plain": [
       "           Clump Thickness  Uniformity of Cell Size  Uniformity of Cell Shape  \\\n",
       "id_number                                                                       \n",
       "1000025                  5                        1                         1   \n",
       "1002945                  5                        4                         4   \n",
       "1015425                  3                        1                         1   \n",
       "1016277                  6                        8                         8   \n",
       "1017023                  4                        1                         1   \n",
       "\n",
       "           Marginal Adhesion  Single Epithelial Cell Size  Bland Chromatin  \\\n",
       "id_number                                                                    \n",
       "1000025                    1                            2                3   \n",
       "1002945                    5                            7                3   \n",
       "1015425                    1                            2                3   \n",
       "1016277                    1                            3                3   \n",
       "1017023                    3                            2                3   \n",
       "\n",
       "           Normal Nucleoli  Mitosis  id_number.1  radius  ...  Bare Nuclei_3  \\\n",
       "id_number                                                 ...                  \n",
       "1000025                  1        1     842302.0   17.99  ...              0   \n",
       "1002945                  2        1     842517.0   20.57  ...              0   \n",
       "1015425                  1        1   84300903.0   19.69  ...              0   \n",
       "1016277                  7        1   84348301.0   11.42  ...              0   \n",
       "1017023                  1        1   84358402.0   20.29  ...              0   \n",
       "\n",
       "           Bare Nuclei_4  Bare Nuclei_5  Bare Nuclei_6  Bare Nuclei_7  \\\n",
       "id_number                                                               \n",
       "1000025                0              0              0              0   \n",
       "1002945                0              0              0              0   \n",
       "1015425                0              0              0              0   \n",
       "1016277                1              0              0              0   \n",
       "1017023                0              0              0              0   \n",
       "\n",
       "           Bare Nuclei_8  Bare Nuclei_9  Bare Nuclei_?  Diagnosis_B  \\\n",
       "id_number                                                             \n",
       "1000025                0              0              0            0   \n",
       "1002945                0              0              0            0   \n",
       "1015425                0              0              0            0   \n",
       "1016277                0              0              0            0   \n",
       "1017023                0              0              0            0   \n",
       "\n",
       "           Diagnosis_M  \n",
       "id_number               \n",
       "1000025              1  \n",
       "1002945              1  \n",
       "1015425              1  \n",
       "1016277              1  \n",
       "1017023              1  \n",
       "\n",
       "[5 rows x 42 columns]"
      ]
     },
     "execution_count": 74,
     "metadata": {},
     "output_type": "execute_result"
    }
   ],
   "source": [
    "bc_data_with_dummies.head()"
   ]
  },
  {
   "cell_type": "code",
   "execution_count": 76,
   "metadata": {
    "colab": {},
    "colab_type": "code",
    "id": "-1qBanSBzjmV"
   },
   "outputs": [],
   "source": [
    "bc_data_with_dummies.drop(['id_number.1','Diagnosis_B','Diagnosis_M'], axis = 1, inplace = True)"
   ]
  },
  {
   "cell_type": "code",
   "execution_count": 77,
   "metadata": {},
   "outputs": [],
   "source": [
    "bc_data_full = bc_data_with_dummies.interpolate(method = 'linear',axis = 1)"
   ]
  },
  {
   "cell_type": "markdown",
   "metadata": {
    "colab_type": "text",
    "id": "eTxzl78pZCEA"
   },
   "source": [
    "### Split data into training and testing sets"
   ]
  },
  {
   "cell_type": "code",
   "execution_count": 78,
   "metadata": {
    "ExecuteTime": {
     "end_time": "2019-08-06T13:27:59.276937Z",
     "start_time": "2019-08-06T13:27:59.257999Z"
    },
    "colab": {},
    "colab_type": "code",
    "id": "RCh1dQCkYzOI"
   },
   "outputs": [],
   "source": [
    "features = bc_data_full\n",
    "\n",
    "X = bc_data_full\n",
    "y = target\n",
    "\n",
    "features_train, features_test, target_train, target_test = train_test_split(X, y, test_size=0.25, random_state=1)"
   ]
  },
  {
   "cell_type": "markdown",
   "metadata": {
    "colab_type": "text",
    "id": "F_I2XBEqN5Ou"
   },
   "source": [
    "### testing data with xgboost to see what the accuracy score is without balancing the data first"
   ]
  },
  {
   "cell_type": "code",
   "execution_count": 26,
   "metadata": {
    "colab": {
     "base_uri": "https://localhost:8080/",
     "height": 34
    },
    "colab_type": "code",
    "executionInfo": {
     "elapsed": 1078,
     "status": "ok",
     "timestamp": 1565017098718,
     "user": {
      "displayName": "Harrison Miller",
      "photoUrl": "https://lh3.googleusercontent.com/-mtrv6ozYIEo/AAAAAAAAAAI/AAAAAAAABHM/XEWtt1y0c-U/s64/photo.jpg",
      "userId": "01074083115709093470"
     },
     "user_tz": 240
    },
    "id": "JRg_xFJ0_nkh",
    "jupyter": {
     "source_hidden": true
    },
    "outputId": "053af91f-4e9c-4525-da49-7120e68e8048"
   },
   "outputs": [
    {
     "name": "stdout",
     "output_type": "stream",
     "text": [
      "Accuracy: 98.57%\n"
     ]
    }
   ],
   "source": [
    "\n",
    "model = XGBClassifier()\n",
    "model.fit(features_train, target_train)\n",
    "target_pred = model.predict(features_test)\n",
    "\n",
    "accuracy = accuracy_score(target_test, target_pred)\n",
    "print(\"Accuracy: %.2f%%\" % (accuracy * 100.0))"
   ]
  },
  {
   "cell_type": "markdown",
   "metadata": {
    "colab_type": "text",
    "id": "yaZ8brGEN2-m"
   },
   "source": [
    "confusion matrix"
   ]
  },
  {
   "cell_type": "code",
   "execution_count": 27,
   "metadata": {
    "colab": {
     "base_uri": "https://localhost:8080/",
     "height": 352
    },
    "colab_type": "code",
    "collapsed": true,
    "executionInfo": {
     "elapsed": 498,
     "status": "ok",
     "timestamp": 1564952960275,
     "user": {
      "displayName": "Harrison Miller",
      "photoUrl": "https://lh3.googleusercontent.com/-mtrv6ozYIEo/AAAAAAAAAAI/AAAAAAAABHM/XEWtt1y0c-U/s64/photo.jpg",
      "userId": "01074083115709093470"
     },
     "user_tz": 240
    },
    "id": "U0W-ABY6-Sld",
    "jupyter": {
     "outputs_hidden": true,
     "source_hidden": true
    },
    "outputId": "51065939-5bc1-49f0-c7a0-adb34cd9a933"
   },
   "outputs": [
    {
     "name": "stdout",
     "output_type": "stream",
     "text": [
      "Confusion matrix:\n",
      " [[135   2]\n",
      " [  1  72]]\n"
     ]
    },
    {
     "data": {
      "image/png": "[encoded data removed]",
      "text/plain": [
       "<Figure size 432x288 with 2 Axes>"
      ]
     },
     "metadata": {
      "needs_background": "light"
     },
     "output_type": "display_data"
    }
   ],
   "source": [
    "conf_mat = confusion_matrix(y_true=target_test, y_pred=target_pred)\n",
    "print('Confusion matrix:\\n', conf_mat)\n",
    "\n",
    "ax= plt.subplot()\n",
    "sns.heatmap(conf_mat, annot=True, ax = ax, fmt = 'g', cmap = 'Greens'); \n",
    "\n",
    "# labels, title and ticks\n",
    "ax.set_xlabel('Predicted');ax.set_ylabel('Expected'); \n",
    "ax.set_title('Confusion Matrix'); \n",
    "ax.xaxis.set_ticklabels(['Benign', 'Malignant']); ax.yaxis.set_ticklabels(['Benign', 'Malignant']);"
   ]
  },
  {
   "cell_type": "markdown",
   "metadata": {
    "colab_type": "text",
    "id": "hmhtp5ebNr85"
   },
   "source": [
    "Function to plot PCA and resampling results"
   ]
  },
  {
   "cell_type": "code",
   "execution_count": 79,
   "metadata": {
    "ExecuteTime": {
     "end_time": "2019-08-06T13:28:31.949484Z",
     "start_time": "2019-08-06T13:28:31.942152Z"
    },
    "colab": {},
    "colab_type": "code",
    "id": "IVJS_QraEqnr"
   },
   "outputs": [],
   "source": [
    "def plot_2d_space(X, y, label='Classes'):   \n",
    "    colors = ['#1F77B4', '#FF7F0E']\n",
    "    markers = ['o', 's']\n",
    "    for l, c, m in zip(np.unique(y), colors, markers):\n",
    "        plt.scatter(\n",
    "            X[y==l, 0],\n",
    "            X[y==l, 1],\n",
    "            c=c, label=l, marker=m\n",
    "        )\n",
    "    plt.title(label)\n",
    "    plt.legend(loc='upper right')\n",
    "    plt.show()"
   ]
  },
  {
   "cell_type": "markdown",
   "metadata": {
    "colab_type": "text",
    "id": "rpNNcc9rNlMV"
   },
   "source": [
    "PCA to visualize the classes"
   ]
  },
  {
   "cell_type": "code",
   "execution_count": 29,
   "metadata": {
    "colab": {
     "base_uri": "https://localhost:8080/",
     "height": 369
    },
    "colab_type": "code",
    "collapsed": true,
    "executionInfo": {
     "elapsed": 758,
     "status": "ok",
     "timestamp": 1565020222116,
     "user": {
      "displayName": "Harrison Miller",
      "photoUrl": "https://lh3.googleusercontent.com/-mtrv6ozYIEo/AAAAAAAAAAI/AAAAAAAABHM/XEWtt1y0c-U/s64/photo.jpg",
      "userId": "01074083115709093470"
     },
     "user_tz": 240
    },
    "id": "aaYzQH0MEzu8",
    "jupyter": {
     "outputs_hidden": true
    },
    "outputId": "3f1886a7-3ca2-4312-d71c-91dd294a503f"
   },
   "outputs": [
    {
     "ename": "ValueError",
     "evalue": "Input contains NaN, infinity or a value too large for dtype('float64').",
     "output_type": "error",
     "traceback": [
      "\u001b[0;31m---------------------------------------------------------------------------\u001b[0m",
      "\u001b[0;31mValueError\u001b[0m                                Traceback (most recent call last)",
      "\u001b[0;32m<ipython-input-29-fb4b6a44ae0e>\u001b[0m in \u001b[0;36m<module>\u001b[0;34m\u001b[0m\n\u001b[1;32m      1\u001b[0m \u001b[0mpca\u001b[0m \u001b[0;34m=\u001b[0m \u001b[0mPCA\u001b[0m\u001b[0;34m(\u001b[0m\u001b[0mn_components\u001b[0m\u001b[0;34m=\u001b[0m\u001b[0;36m39\u001b[0m\u001b[0;34m)\u001b[0m\u001b[0;34m\u001b[0m\u001b[0;34m\u001b[0m\u001b[0m\n\u001b[0;32m----> 2\u001b[0;31m \u001b[0mpca_result\u001b[0m \u001b[0;34m=\u001b[0m \u001b[0mpca\u001b[0m\u001b[0;34m.\u001b[0m\u001b[0mfit_transform\u001b[0m\u001b[0;34m(\u001b[0m\u001b[0mbc_data_with_dummies\u001b[0m\u001b[0;34m)\u001b[0m\u001b[0;34m\u001b[0m\u001b[0;34m\u001b[0m\u001b[0m\n\u001b[0m\u001b[1;32m      3\u001b[0m \u001b[0;34m\u001b[0m\u001b[0m\n\u001b[1;32m      4\u001b[0m \u001b[0mprint\u001b[0m\u001b[0;34m(\u001b[0m\u001b[0;34m'Explained variation per principal component: {}'\u001b[0m\u001b[0;34m.\u001b[0m\u001b[0mformat\u001b[0m\u001b[0;34m(\u001b[0m\u001b[0mpca\u001b[0m\u001b[0;34m.\u001b[0m\u001b[0mexplained_variance_ratio_\u001b[0m\u001b[0;34m)\u001b[0m\u001b[0;34m)\u001b[0m\u001b[0;34m\u001b[0m\u001b[0;34m\u001b[0m\u001b[0m\n\u001b[1;32m      5\u001b[0m \u001b[0;34m\u001b[0m\u001b[0m\n",
      "\u001b[0;32m~/anaconda3/lib/python3.7/site-packages/sklearn/decomposition/pca.py\u001b[0m in \u001b[0;36mfit_transform\u001b[0;34m(self, X, y)\u001b[0m\n\u001b[1;32m    358\u001b[0m \u001b[0;34m\u001b[0m\u001b[0m\n\u001b[1;32m    359\u001b[0m         \"\"\"\n\u001b[0;32m--> 360\u001b[0;31m         \u001b[0mU\u001b[0m\u001b[0;34m,\u001b[0m \u001b[0mS\u001b[0m\u001b[0;34m,\u001b[0m \u001b[0mV\u001b[0m \u001b[0;34m=\u001b[0m \u001b[0mself\u001b[0m\u001b[0;34m.\u001b[0m\u001b[0m_fit\u001b[0m\u001b[0;34m(\u001b[0m\u001b[0mX\u001b[0m\u001b[0;34m)\u001b[0m\u001b[0;34m\u001b[0m\u001b[0;34m\u001b[0m\u001b[0m\n\u001b[0m\u001b[1;32m    361\u001b[0m         \u001b[0mU\u001b[0m \u001b[0;34m=\u001b[0m \u001b[0mU\u001b[0m\u001b[0;34m[\u001b[0m\u001b[0;34m:\u001b[0m\u001b[0;34m,\u001b[0m \u001b[0;34m:\u001b[0m\u001b[0mself\u001b[0m\u001b[0;34m.\u001b[0m\u001b[0mn_components_\u001b[0m\u001b[0;34m]\u001b[0m\u001b[0;34m\u001b[0m\u001b[0;34m\u001b[0m\u001b[0m\n\u001b[1;32m    362\u001b[0m \u001b[0;34m\u001b[0m\u001b[0m\n",
      "\u001b[0;32m~/anaconda3/lib/python3.7/site-packages/sklearn/decomposition/pca.py\u001b[0m in \u001b[0;36m_fit\u001b[0;34m(self, X)\u001b[0m\n\u001b[1;32m    380\u001b[0m \u001b[0;34m\u001b[0m\u001b[0m\n\u001b[1;32m    381\u001b[0m         X = check_array(X, dtype=[np.float64, np.float32], ensure_2d=True,\n\u001b[0;32m--> 382\u001b[0;31m                         copy=self.copy)\n\u001b[0m\u001b[1;32m    383\u001b[0m \u001b[0;34m\u001b[0m\u001b[0m\n\u001b[1;32m    384\u001b[0m         \u001b[0;31m# Handle n_components==None\u001b[0m\u001b[0;34m\u001b[0m\u001b[0;34m\u001b[0m\u001b[0;34m\u001b[0m\u001b[0m\n",
      "\u001b[0;32m~/anaconda3/lib/python3.7/site-packages/sklearn/utils/validation.py\u001b[0m in \u001b[0;36mcheck_array\u001b[0;34m(array, accept_sparse, accept_large_sparse, dtype, order, copy, force_all_finite, ensure_2d, allow_nd, ensure_min_samples, ensure_min_features, warn_on_dtype, estimator)\u001b[0m\n\u001b[1;32m    540\u001b[0m         \u001b[0;32mif\u001b[0m \u001b[0mforce_all_finite\u001b[0m\u001b[0;34m:\u001b[0m\u001b[0;34m\u001b[0m\u001b[0;34m\u001b[0m\u001b[0m\n\u001b[1;32m    541\u001b[0m             _assert_all_finite(array,\n\u001b[0;32m--> 542\u001b[0;31m                                allow_nan=force_all_finite == 'allow-nan')\n\u001b[0m\u001b[1;32m    543\u001b[0m \u001b[0;34m\u001b[0m\u001b[0m\n\u001b[1;32m    544\u001b[0m     \u001b[0;32mif\u001b[0m \u001b[0mensure_min_samples\u001b[0m \u001b[0;34m>\u001b[0m \u001b[0;36m0\u001b[0m\u001b[0;34m:\u001b[0m\u001b[0;34m\u001b[0m\u001b[0;34m\u001b[0m\u001b[0m\n",
      "\u001b[0;32m~/anaconda3/lib/python3.7/site-packages/sklearn/utils/validation.py\u001b[0m in \u001b[0;36m_assert_all_finite\u001b[0;34m(X, allow_nan)\u001b[0m\n\u001b[1;32m     54\u001b[0m                 not allow_nan and not np.isfinite(X).all()):\n\u001b[1;32m     55\u001b[0m             \u001b[0mtype_err\u001b[0m \u001b[0;34m=\u001b[0m \u001b[0;34m'infinity'\u001b[0m \u001b[0;32mif\u001b[0m \u001b[0mallow_nan\u001b[0m \u001b[0;32melse\u001b[0m \u001b[0;34m'NaN, infinity'\u001b[0m\u001b[0;34m\u001b[0m\u001b[0;34m\u001b[0m\u001b[0m\n\u001b[0;32m---> 56\u001b[0;31m             \u001b[0;32mraise\u001b[0m \u001b[0mValueError\u001b[0m\u001b[0;34m(\u001b[0m\u001b[0mmsg_err\u001b[0m\u001b[0;34m.\u001b[0m\u001b[0mformat\u001b[0m\u001b[0;34m(\u001b[0m\u001b[0mtype_err\u001b[0m\u001b[0;34m,\u001b[0m \u001b[0mX\u001b[0m\u001b[0;34m.\u001b[0m\u001b[0mdtype\u001b[0m\u001b[0;34m)\u001b[0m\u001b[0;34m)\u001b[0m\u001b[0;34m\u001b[0m\u001b[0;34m\u001b[0m\u001b[0m\n\u001b[0m\u001b[1;32m     57\u001b[0m     \u001b[0;31m# for object dtype data, we only check for NaNs (GH-13254)\u001b[0m\u001b[0;34m\u001b[0m\u001b[0;34m\u001b[0m\u001b[0;34m\u001b[0m\u001b[0m\n\u001b[1;32m     58\u001b[0m     \u001b[0;32melif\u001b[0m \u001b[0mX\u001b[0m\u001b[0;34m.\u001b[0m\u001b[0mdtype\u001b[0m \u001b[0;34m==\u001b[0m \u001b[0mnp\u001b[0m\u001b[0;34m.\u001b[0m\u001b[0mdtype\u001b[0m\u001b[0;34m(\u001b[0m\u001b[0;34m'object'\u001b[0m\u001b[0;34m)\u001b[0m \u001b[0;32mand\u001b[0m \u001b[0;32mnot\u001b[0m \u001b[0mallow_nan\u001b[0m\u001b[0;34m:\u001b[0m\u001b[0;34m\u001b[0m\u001b[0;34m\u001b[0m\u001b[0m\n",
      "\u001b[0;31mValueError\u001b[0m: Input contains NaN, infinity or a value too large for dtype('float64')."
     ]
    }
   ],
   "source": [
    "pca = PCA(n_components=39)\n",
    "pca_result = pca.fit_transform(bc_data_with_dummies)\n",
    "\n",
    "print('Explained variation per principal component: {}'.format(pca.explained_variance_ratio_))\n",
    "\n",
    "plot_2d_space(pca_result, y, 'Imbalanced dataset (39 PCA components)')"
   ]
  },
  {
   "cell_type": "markdown",
   "metadata": {
    "colab_type": "text",
    "id": "HS5ZIe2YPiWP"
   },
   "source": [
    "### Testing different resampling methods"
   ]
  },
  {
   "cell_type": "markdown",
   "metadata": {
    "colab_type": "text",
    "id": "2j8w4-vYNS0P"
   },
   "source": [
    "Testing SMOTE oversampling method which generates new samples in the smaller sample from its nearest neighbors"
   ]
  },
  {
   "cell_type": "code",
   "execution_count": 57,
   "metadata": {
    "ExecuteTime": {
     "end_time": "2019-08-06T13:28:41.288181Z",
     "start_time": "2019-08-06T13:28:41.020140Z"
    },
    "colab": {
     "base_uri": "https://localhost:8080/",
     "height": 301
    },
    "colab_type": "code",
    "executionInfo": {
     "elapsed": 452,
     "status": "ok",
     "timestamp": 1564959203035,
     "user": {
      "displayName": "Harrison Miller",
      "photoUrl": "https://lh3.googleusercontent.com/-mtrv6ozYIEo/AAAAAAAAAAI/AAAAAAAABHM/XEWtt1y0c-U/s64/photo.jpg",
      "userId": "01074083115709093470"
     },
     "user_tz": 240
    },
    "id": "KQDV1o8VDtbq",
    "outputId": "7f2d60e9-ac9c-4863-869e-c5db2c50dab6"
   },
   "outputs": [
    {
     "name": "stdout",
     "output_type": "stream",
     "text": [
      "[(2, 340), (4, 340)]\n"
     ]
    },
    {
     "data": {
      "image/png": "[encoded data removed]",
      "text/plain": [
       "<Figure size 432x288 with 1 Axes>"
      ]
     },
     "metadata": {},
     "output_type": "display_data"
    }
   ],
   "source": [
    "smote = SMOTE(ratio='minority')\n",
    "X_sm, y_sm = smote.fit_sample(features_train, target_train)\n",
    "print(sorted(Counter(y_sm).items()))\n",
    "\n",
    "plot_2d_space(X_sm, y_sm, 'SMOTE over-sampling')"
   ]
  },
  {
   "cell_type": "markdown",
   "metadata": {
    "colab_type": "text",
    "id": "1InNd_vjNKMO"
   },
   "source": [
    "Testing SMOTE and Tomek combination over and undersampling method"
   ]
  },
  {
   "cell_type": "code",
   "execution_count": 58,
   "metadata": {
    "ExecuteTime": {
     "end_time": "2019-08-06T13:28:52.185795Z",
     "start_time": "2019-08-06T13:28:51.950037Z"
    },
    "colab": {
     "base_uri": "https://localhost:8080/",
     "height": 301
    },
    "colab_type": "code",
    "executionInfo": {
     "elapsed": 401,
     "status": "ok",
     "timestamp": 1564953013662,
     "user": {
      "displayName": "Harrison Miller",
      "photoUrl": "https://lh3.googleusercontent.com/-mtrv6ozYIEo/AAAAAAAAAAI/AAAAAAAABHM/XEWtt1y0c-U/s64/photo.jpg",
      "userId": "01074083115709093470"
     },
     "user_tz": 240
    },
    "id": "oXyPXZfvFNwm",
    "outputId": "e044c946-2bae-469a-ca40-92a2c16b6bc5"
   },
   "outputs": [
    {
     "name": "stdout",
     "output_type": "stream",
     "text": [
      "[(2, 332), (4, 332)]\n"
     ]
    },
    {
     "data": {
      "image/png": "[encoded data removed]",
      "text/plain": [
       "<Figure size 432x288 with 1 Axes>"
      ]
     },
     "metadata": {},
     "output_type": "display_data"
    }
   ],
   "source": [
    "smt = SMOTETomek(ratio='auto')\n",
    "X_smt, y_smt = smt.fit_sample(features_train, target_train)\n",
    "print(sorted(Counter(y_smt).items()))\n",
    "\n",
    "plot_2d_space(X_smt, y_smt, 'SMOTE + Tomek links')"
   ]
  },
  {
   "cell_type": "markdown",
   "metadata": {
    "colab_type": "text",
    "id": "ufBKo4YQM_el"
   },
   "source": [
    "Testing SMOTE + NN combination over and under sampling method"
   ]
  },
  {
   "cell_type": "code",
   "execution_count": 13,
   "metadata": {
    "ExecuteTime": {
     "end_time": "2019-08-06T13:28:54.291563Z",
     "start_time": "2019-08-06T13:28:54.070380Z"
    },
    "colab": {
     "base_uri": "https://localhost:8080/",
     "height": 301
    },
    "colab_type": "code",
    "executionInfo": {
     "elapsed": 525,
     "status": "ok",
     "timestamp": 1564953043098,
     "user": {
      "displayName": "Harrison Miller",
      "photoUrl": "https://lh3.googleusercontent.com/-mtrv6ozYIEo/AAAAAAAAAAI/AAAAAAAABHM/XEWtt1y0c-U/s64/photo.jpg",
      "userId": "01074083115709093470"
     },
     "user_tz": 240
    },
    "id": "NlK8RPtBFpB3",
    "outputId": "bb52f4e8-3cee-4452-cc85-f8f0a27e5179"
   },
   "outputs": [
    {
     "name": "stdout",
     "output_type": "stream",
     "text": [
      "[(2, 316), (4, 306)]\n"
     ]
    },
    {
     "data": {
      "image/png": "[encoded data removed]",
      "text/plain": [
       "<Figure size 432x288 with 1 Axes>"
      ]
     },
     "metadata": {
      "needs_background": "light"
     },
     "output_type": "display_data"
    }
   ],
   "source": [
    "smote_enn = SMOTEENN(random_state=0)\n",
    "X_smenn, y_smenn = smote_enn.fit_resample(features_train, target_train)\n",
    "print(sorted(Counter(y_smenn).items()))\n",
    "\n",
    "plot_2d_space(X_smenn, y_smenn, 'SMOTE + Nearest Neighbours')"
   ]
  },
  {
   "cell_type": "markdown",
   "metadata": {
    "colab_type": "text",
    "id": "3TvfY9dsXeMa"
   },
   "source": [
    " Testing ADASYN Over-sampling"
   ]
  },
  {
   "cell_type": "code",
   "execution_count": 14,
   "metadata": {
    "ExecuteTime": {
     "end_time": "2019-08-06T13:28:55.795664Z",
     "start_time": "2019-08-06T13:28:55.543817Z"
    },
    "colab": {
     "base_uri": "https://localhost:8080/",
     "height": 301
    },
    "colab_type": "code",
    "executionInfo": {
     "elapsed": 508,
     "status": "ok",
     "timestamp": 1565025471464,
     "user": {
      "displayName": "Harrison Miller",
      "photoUrl": "https://lh3.googleusercontent.com/-mtrv6ozYIEo/AAAAAAAAAAI/AAAAAAAABHM/XEWtt1y0c-U/s64/photo.jpg",
      "userId": "01074083115709093470"
     },
     "user_tz": 240
    },
    "id": "yVFMnJQKWIvk",
    "outputId": "f875cca8-38c9-4fe2-e295-72bc2ac5815f"
   },
   "outputs": [
    {
     "name": "stdout",
     "output_type": "stream",
     "text": [
      "[(2, 340), (4, 327)]\n"
     ]
    },
    {
     "data": {
      "image/png": "[encoded data removed]",
      "text/plain": [
       "<Figure size 432x288 with 1 Axes>"
      ]
     },
     "metadata": {
      "needs_background": "light"
     },
     "output_type": "display_data"
    }
   ],
   "source": [
    "from imblearn.over_sampling import ADASYN \n",
    "ada = ADASYN()\n",
    "X_ada, y_ada = ada.fit_sample(features_train,target_train)\n",
    "print(sorted(Counter(y_ada).items()))\n",
    "\n",
    "plot_2d_space(X_ada,y_ada, 'ADASYN over-sampling')"
   ]
  },
  {
   "cell_type": "markdown",
   "metadata": {},
   "source": [
    "## Undersampling methods"
   ]
  },
  {
   "cell_type": "markdown",
   "metadata": {},
   "source": [
    "random under sampling"
   ]
  },
  {
   "cell_type": "code",
   "execution_count": 83,
   "metadata": {},
   "outputs": [
    {
     "name": "stdout",
     "output_type": "stream",
     "text": [
      "[(2, 184), (4, 184)]\n"
     ]
    },
    {
     "data": {
      "image/png": "[encoded data removed]",
      "text/plain": [
       "<Figure size 432x288 with 1 Axes>"
      ]
     },
     "metadata": {},
     "output_type": "display_data"
    }
   ],
   "source": [
    "rus = RandomUnderSampler()\n",
    "X_rus, y_rus = rus.fit_sample(features_train, target_train)\n",
    "print(sorted(Counter(y_rus).items()))\n",
    "\n",
    "plot_2d_space(X_rus,y_rus, 'Random Under Sampling')"
   ]
  },
  {
   "cell_type": "markdown",
   "metadata": {},
   "source": [
    "tomeklinks undersampling"
   ]
  },
  {
   "cell_type": "code",
   "execution_count": 85,
   "metadata": {},
   "outputs": [
    {
     "name": "stdout",
     "output_type": "stream",
     "text": [
      "[(2, 328), (4, 184)]\n"
     ]
    },
    {
     "data": {
      "image/png": "[encoded data removed]",
      "text/plain": [
       "<Figure size 432x288 with 1 Axes>"
      ]
     },
     "metadata": {},
     "output_type": "display_data"
    }
   ],
   "source": [
    "tml = TomekLinks()\n",
    "X_tml, y_tml = tml.fit_sample(features_train,target_train)\n",
    "print(sorted(Counter(y_tml).items()))\n",
    "\n",
    "plot_2d_space(X_tml,y_tml, 'Tomek Under Sampling')"
   ]
  },
  {
   "cell_type": "markdown",
   "metadata": {},
   "source": [
    "centroid under sampling"
   ]
  },
  {
   "cell_type": "code",
   "execution_count": 86,
   "metadata": {},
   "outputs": [
    {
     "ename": "TypeError",
     "evalue": "cannot unpack non-iterable ClusterCentroids object",
     "output_type": "error",
     "traceback": [
      "\u001b[0;31m---------------------------------------------------------------------------\u001b[0m",
      "\u001b[0;31mTypeError\u001b[0m                                 Traceback (most recent call last)",
      "\u001b[0;32m<ipython-input-86-f89a3e2fc4cd>\u001b[0m in \u001b[0;36m<module>\u001b[0;34m\u001b[0m\n\u001b[1;32m      1\u001b[0m \u001b[0mcc\u001b[0m \u001b[0;34m=\u001b[0m \u001b[0mClusterCentroids\u001b[0m\u001b[0;34m(\u001b[0m\u001b[0;34m)\u001b[0m\u001b[0;34m\u001b[0m\u001b[0;34m\u001b[0m\u001b[0m\n\u001b[0;32m----> 2\u001b[0;31m \u001b[0mX_cc\u001b[0m\u001b[0;34m,\u001b[0m \u001b[0my_cc\u001b[0m \u001b[0;34m=\u001b[0m \u001b[0mcc\u001b[0m\u001b[0;34m.\u001b[0m\u001b[0mfit\u001b[0m\u001b[0;34m(\u001b[0m\u001b[0mfeatures_train\u001b[0m\u001b[0;34m,\u001b[0m\u001b[0mtarget_train\u001b[0m\u001b[0;34m)\u001b[0m\u001b[0;34m\u001b[0m\u001b[0;34m\u001b[0m\u001b[0m\n\u001b[0m\u001b[1;32m      3\u001b[0m \u001b[0mprint\u001b[0m\u001b[0;34m(\u001b[0m\u001b[0msorted\u001b[0m\u001b[0;34m(\u001b[0m\u001b[0mCounter\u001b[0m\u001b[0;34m(\u001b[0m\u001b[0my_cc\u001b[0m\u001b[0;34m)\u001b[0m\u001b[0;34m.\u001b[0m\u001b[0mitems\u001b[0m\u001b[0;34m(\u001b[0m\u001b[0;34m)\u001b[0m\u001b[0;34m)\u001b[0m\u001b[0;34m)\u001b[0m\u001b[0;34m\u001b[0m\u001b[0;34m\u001b[0m\u001b[0m\n\u001b[1;32m      4\u001b[0m \u001b[0;34m\u001b[0m\u001b[0m\n\u001b[1;32m      5\u001b[0m \u001b[0mplot_2d_space\u001b[0m\u001b[0;34m(\u001b[0m\u001b[0mX_cc\u001b[0m\u001b[0;34m,\u001b[0m\u001b[0my_cc\u001b[0m\u001b[0;34m,\u001b[0m \u001b[0;34m'Centroid'\u001b[0m\u001b[0;34m)\u001b[0m\u001b[0;34m\u001b[0m\u001b[0;34m\u001b[0m\u001b[0m\n",
      "\u001b[0;31mTypeError\u001b[0m: cannot unpack non-iterable ClusterCentroids object"
     ]
    }
   ],
   "source": [
    "cc = ClusterCentroids()\n",
    "X_cc, y_cc = cc.fit(features_train,target_train)\n",
    "print(sorted(Counter(y_cc).items()))\n",
    "\n",
    "plot_2d_space(X_cc,y_cc, 'Centroid')"
   ]
  },
  {
   "cell_type": "markdown",
   "metadata": {
    "colab_type": "text",
    "id": "aVJfufnoAp1W"
   },
   "source": [
    "### TPOT"
   ]
  },
  {
   "cell_type": "code",
   "execution_count": 34,
   "metadata": {
    "colab": {
     "base_uri": "https://localhost:8080/",
     "height": 629
    },
    "colab_type": "code",
    "collapsed": true,
    "executionInfo": {
     "elapsed": 1192840,
     "status": "ok",
     "timestamp": 1564969537448,
     "user": {
      "displayName": "Harrison Miller",
      "photoUrl": "https://lh3.googleusercontent.com/-mtrv6ozYIEo/AAAAAAAAAAI/AAAAAAAABHM/XEWtt1y0c-U/s64/photo.jpg",
      "userId": "01074083115709093470"
     },
     "user_tz": 240
    },
    "id": "hyauBDbhb2tD",
    "jupyter": {
     "outputs_hidden": true,
     "source_hidden": true
    },
    "outputId": "d8121fe5-2449-4e5f-a88e-ddaaddfa19b4"
   },
   "outputs": [
    {
     "data": {
      "application/vnd.jupyter.widget-view+json": {
       "model_id": "",
       "version_major": 2,
       "version_minor": 0
      },
      "text/plain": [
       "HBox(children=(IntProgress(value=0, description='Optimization Progress', max=2550, style=ProgressStyle(descrip…"
      ]
     },
     "metadata": {},
     "output_type": "display_data"
    },
    {
     "name": "stdout",
     "output_type": "stream",
     "text": [
      "Generation 1 - Current best internal CV score: 0.9779411764705882\n",
      "Generation 2 - Current best internal CV score: 0.9779411764705882\n",
      "Generation 3 - Current best internal CV score: 0.9779411764705882\n",
      "Generation 4 - Current best internal CV score: 0.9779411764705882\n",
      "Generation 5 - Current best internal CV score: 0.9779411764705882\n",
      "Generation 6 - Current best internal CV score: 0.9779411764705882\n",
      "Generation 7 - Current best internal CV score: 0.9779411764705882\n",
      "Generation 8 - Current best internal CV score: 0.9779411764705882\n",
      "Generation 9 - Current best internal CV score: 0.9794117647058824\n",
      "Generation 10 - Current best internal CV score: 0.9794117647058824\n",
      "Generation 11 - Current best internal CV score: 0.9794117647058824\n",
      "Generation 12 - Current best internal CV score: 0.9808823529411764\n",
      "Generation 13 - Current best internal CV score: 0.9808823529411764\n",
      "Generation 14 - Current best internal CV score: 0.9808823529411764\n",
      "Generation 15 - Current best internal CV score: 0.9808823529411764\n",
      "Generation 16 - Current best internal CV score: 0.9808823529411764\n",
      "Generation 17 - Current best internal CV score: 0.9808823529411764\n",
      "Generation 18 - Current best internal CV score: 0.9808823529411764\n",
      "Generation 19 - Current best internal CV score: 0.9808823529411764\n",
      "Generation 20 - Current best internal CV score: 0.9808823529411764\n",
      "Generation 21 - Current best internal CV score: 0.9808823529411764\n",
      "Generation 22 - Current best internal CV score: 0.9808823529411764\n",
      "Generation 23 - Current best internal CV score: 0.9808823529411764\n",
      "Generation 24 - Current best internal CV score: 0.9808823529411764\n",
      "Generation 25 - Current best internal CV score: 0.9808823529411764\n",
      "Generation 26 - Current best internal CV score: 0.9808823529411764\n",
      "Generation 27 - Current best internal CV score: 0.9808823529411764\n",
      "Generation 28 - Current best internal CV score: 0.9808823529411764\n",
      "Generation 29 - Current best internal CV score: 0.9808823529411764\n",
      "Generation 30 - Current best internal CV score: 0.9808823529411764\n",
      "Generation 31 - Current best internal CV score: 0.9808823529411764\n",
      "Generation 32 - Current best internal CV score: 0.9808823529411764\n",
      "Generation 33 - Current best internal CV score: 0.9808823529411764\n",
      "Generation 34 - Current best internal CV score: 0.9808823529411764\n",
      "Generation 35 - Current best internal CV score: 0.9808823529411764\n",
      "Generation 36 - Current best internal CV score: 0.9823529411764707\n",
      "Generation 37 - Current best internal CV score: 0.9823529411764707\n",
      "Generation 38 - Current best internal CV score: 0.9823529411764707\n",
      "Generation 39 - Current best internal CV score: 0.9823529411764707\n",
      "Generation 40 - Current best internal CV score: 0.9823529411764707\n",
      "Generation 41 - Current best internal CV score: 0.9823529411764707\n",
      "Generation 42 - Current best internal CV score: 0.9823529411764707\n",
      "Generation 43 - Current best internal CV score: 0.9823529411764707\n",
      "Generation 44 - Current best internal CV score: 0.9823529411764707\n",
      "Generation 45 - Current best internal CV score: 0.9823529411764707\n",
      "Generation 46 - Current best internal CV score: 0.9838235294117647\n",
      "Generation 47 - Current best internal CV score: 0.9838235294117647\n",
      "Generation 48 - Current best internal CV score: 0.9838235294117647\n",
      "Generation 49 - Current best internal CV score: 0.9838235294117647\n",
      "Generation 50 - Current best internal CV score: 0.9838235294117647\n",
      "\n",
      "Best pipeline: ExtraTreesClassifier(input_matrix, bootstrap=True, criterion=entropy, max_features=0.6500000000000001, min_samples_leaf=1, min_samples_split=6, n_estimators=100)\n"
     ]
    },
    {
     "data": {
      "text/plain": [
       "TPOTClassifier(config_dict=None, crossover_rate=0.1, cv=10,\n",
       "               disable_update_check=False, early_stop=None, generations=50,\n",
       "               max_eval_time_mins=5, max_time_mins=None, memory=None,\n",
       "               mutation_rate=0.9, n_jobs=1, offspring_size=None,\n",
       "               periodic_checkpoint_folder=None, population_size=50,\n",
       "               random_state=None, scoring=None, subsample=1.0, template=None,\n",
       "               use_dask=False, verbosity=2, warm_start=False)"
      ]
     },
     "execution_count": 34,
     "metadata": {},
     "output_type": "execute_result"
    }
   ],
   "source": [
    "tpot = TPOTClassifier(generations=50, population_size= 50, cv = 10, verbosity= 2, n_jobs= 1)\n",
    "tpot.fit(X_sm,y_sm)"
   ]
  },
  {
   "cell_type": "code",
   "execution_count": 36,
   "metadata": {
    "colab": {
     "base_uri": "https://localhost:8080/",
     "height": 34
    },
    "colab_type": "code",
    "executionInfo": {
     "elapsed": 570,
     "status": "ok",
     "timestamp": 1565025766729,
     "user": {
      "displayName": "Harrison Miller",
      "photoUrl": "https://lh3.googleusercontent.com/-mtrv6ozYIEo/AAAAAAAAAAI/AAAAAAAABHM/XEWtt1y0c-U/s64/photo.jpg",
      "userId": "01074083115709093470"
     },
     "user_tz": 240
    },
    "id": "6ic7YCmz2FOA",
    "outputId": "17bbc7f6-c90c-4788-fe22-db2d1602f3c2"
   },
   "outputs": [
    {
     "name": "stdout",
     "output_type": "stream",
     "text": [
      "0.9714285714285714\n"
     ]
    }
   ],
   "source": [
    "print(tpot.score(features_test,target_test))"
   ]
  },
  {
   "cell_type": "code",
   "execution_count": 37,
   "metadata": {
    "colab": {},
    "colab_type": "code",
    "id": "mLd9x4Hl8oJx"
   },
   "outputs": [],
   "source": [
    "tpot.export('tpot_bc_pipeline_ada.py')"
   ]
  },
  {
   "cell_type": "code",
   "execution_count": null,
   "metadata": {},
   "outputs": [],
   "source": []
  },
  {
   "cell_type": "markdown",
   "metadata": {
    "colab_type": "text",
    "id": "pous74_CA3pl"
   },
   "source": [
    "### using the chosen model from tpot"
   ]
  },
  {
   "cell_type": "code",
   "execution_count": 59,
   "metadata": {
    "ExecuteTime": {
     "end_time": "2019-08-06T13:29:05.393322Z",
     "start_time": "2019-08-06T13:29:05.387690Z"
    },
    "colab": {},
    "colab_type": "code",
    "id": "r0ypnsnWAIhn"
   },
   "outputs": [],
   "source": [
    "from sklearn.ensemble import ExtraTreesClassifier"
   ]
  },
  {
   "cell_type": "code",
   "execution_count": 87,
   "metadata": {
    "ExecuteTime": {
     "end_time": "2019-08-06T13:29:13.457975Z",
     "start_time": "2019-08-06T13:29:13.304334Z"
    },
    "colab": {
     "base_uri": "https://localhost:8080/",
     "height": 34
    },
    "colab_type": "code",
    "executionInfo": {
     "elapsed": 522,
     "status": "ok",
     "timestamp": 1564970448763,
     "user": {
      "displayName": "Harrison Miller",
      "photoUrl": "https://lh3.googleusercontent.com/-mtrv6ozYIEo/AAAAAAAAAAI/AAAAAAAABHM/XEWtt1y0c-U/s64/photo.jpg",
      "userId": "01074083115709093470"
     },
     "user_tz": 240
    },
    "id": "YXXuYjJ5-khD",
    "outputId": "4c60e41d-9b66-4959-fd93-04c6862210a7"
   },
   "outputs": [
    {
     "name": "stdout",
     "output_type": "stream",
     "text": [
      "Accuracy: 97.14%\n"
     ]
    }
   ],
   "source": [
    "extratrees = ExtraTreesClassifier(bootstrap=True, criterion=\"entropy\", max_features=0.6500000000000001, min_samples_leaf=1, min_samples_split=6, n_estimators=100)\n",
    "extratrees.fit(X_rus,y_rus)\n",
    "\n",
    "extratrees_pred = extratrees.predict(features_test)\n",
    "\n",
    "accuracy = accuracy_score(target_test, extratrees_pred)\n",
    "print(\"Accuracy: %.2f%%\" % (accuracy * 100.0))\n"
   ]
  },
  {
   "cell_type": "code",
   "execution_count": 88,
   "metadata": {
    "ExecuteTime": {
     "end_time": "2019-08-06T13:29:22.847931Z",
     "start_time": "2019-08-06T13:29:22.551665Z"
    },
    "colab": {
     "base_uri": "https://localhost:8080/",
     "height": 352
    },
    "colab_type": "code",
    "executionInfo": {
     "elapsed": 426,
     "status": "ok",
     "timestamp": 1564970505099,
     "user": {
      "displayName": "Harrison Miller",
      "photoUrl": "https://lh3.googleusercontent.com/-mtrv6ozYIEo/AAAAAAAAAAI/AAAAAAAABHM/XEWtt1y0c-U/s64/photo.jpg",
      "userId": "01074083115709093470"
     },
     "user_tz": 240
    },
    "id": "im-4RSLLBQbW",
    "outputId": "d0865f84-727a-42b5-9779-cd0d3be55cd0"
   },
   "outputs": [
    {
     "name": "stdout",
     "output_type": "stream",
     "text": [
      "              precision    recall  f1-score   support\n",
      "\n",
      "           2       0.99      0.97      0.98       118\n",
      "           4       0.93      0.98      0.96        57\n",
      "\n",
      "    accuracy                           0.97       175\n",
      "   macro avg       0.96      0.97      0.97       175\n",
      "weighted avg       0.97      0.97      0.97       175\n",
      "\n"
     ]
    },
    {
     "data": {
      "image/png": "[encoded data removed]",
      "text/plain": [
       "<Figure size 432x288 with 2 Axes>"
      ]
     },
     "metadata": {},
     "output_type": "display_data"
    }
   ],
   "source": [
    "conf_mat = confusion_matrix(y_true=target_test, y_pred=extratrees_pred)\n",
    "# print('Confusion matrix:\\n', conf_mat)\n",
    "\n",
    "ax= plt.subplot()\n",
    "sns.heatmap(conf_mat, annot=True, ax = ax, fmt = 'g', cmap = 'Greens'); \n",
    "\n",
    "# labels, title and ticks\n",
    "ax.set_xlabel('Predicted');ax.set_ylabel('Expected'); \n",
    "ax.set_title('Confusion Matrix'); \n",
    "ax.xaxis.set_ticklabels(['Benign', 'Malignant']); ax.yaxis.set_ticklabels(['Benign', 'Malignant']);\n",
    "print(classification_report(target_test, extratrees_pred))"
   ]
  },
  {
   "cell_type": "code",
   "execution_count": 89,
   "metadata": {
    "ExecuteTime": {
     "end_time": "2019-08-06T13:29:34.652930Z",
     "start_time": "2019-08-06T13:29:34.638457Z"
    },
    "colab": {},
    "colab_type": "code",
    "id": "sfuqAH13B9k1"
   },
   "outputs": [],
   "source": [
    "def plot_feature_importances(model):\n",
    "    n_features = features_train.shape[1]\n",
    "    plt.figure(figsize=(8,15))\n",
    "    plt.barh(range(n_features), model.feature_importances_, align='center') \n",
    "    plt.yticks(np.arange(n_features), features_train.columns.values) \n",
    "    plt.xlabel(\"Feature importance\")\n",
    "    plt.ylabel(\"Feature\")"
   ]
  },
  {
   "cell_type": "code",
   "execution_count": 90,
   "metadata": {
    "ExecuteTime": {
     "end_time": "2019-08-06T13:29:35.935661Z",
     "start_time": "2019-08-06T13:29:35.511078Z"
    },
    "colab": {
     "base_uri": "https://localhost:8080/",
     "height": 889
    },
    "colab_type": "code",
    "executionInfo": {
     "elapsed": 747,
     "status": "ok",
     "timestamp": 1564963684330,
     "user": {
      "displayName": "Harrison Miller",
      "photoUrl": "https://lh3.googleusercontent.com/-mtrv6ozYIEo/AAAAAAAAAAI/AAAAAAAABHM/XEWtt1y0c-U/s64/photo.jpg",
      "userId": "01074083115709093470"
     },
     "user_tz": 240
    },
    "id": "7gcpRgDDCjeq",
    "outputId": "8ba7d5f1-de88-4b84-da68-96565f39614c"
   },
   "outputs": [
    {
     "data": {
      "image/png": "[encoded data removed]",
      "text/plain": [
       "<Figure size 576x1080 with 1 Axes>"
      ]
     },
     "metadata": {},
     "output_type": "display_data"
    }
   ],
   "source": [
    "plot_feature_importances(extratrees)"
   ]
  },
  {
   "cell_type": "code",
   "execution_count": 91,
   "metadata": {
    "ExecuteTime": {
     "end_time": "2019-08-06T13:29:39.592479Z",
     "start_time": "2019-08-06T13:29:39.576109Z"
    },
    "colab": {
     "base_uri": "https://localhost:8080/",
     "height": 170
    },
    "colab_type": "code",
    "executionInfo": {
     "elapsed": 257,
     "status": "ok",
     "timestamp": 1564970561666,
     "user": {
      "displayName": "Harrison Miller",
      "photoUrl": "https://lh3.googleusercontent.com/-mtrv6ozYIEo/AAAAAAAAAAI/AAAAAAAABHM/XEWtt1y0c-U/s64/photo.jpg",
      "userId": "01074083115709093470"
     },
     "user_tz": 240
    },
    "id": "7eYy8zcIFKX4",
    "outputId": "5a4bc281-525a-46c4-998b-367063bf1701"
   },
   "outputs": [
    {
     "name": "stdout",
     "output_type": "stream",
     "text": [
      "              precision    recall  f1-score   support\n",
      "\n",
      "           2       0.99      0.97      0.98       118\n",
      "           4       0.93      0.98      0.96        57\n",
      "\n",
      "    accuracy                           0.97       175\n",
      "   macro avg       0.96      0.97      0.97       175\n",
      "weighted avg       0.97      0.97      0.97       175\n",
      "\n"
     ]
    }
   ],
   "source": [
    "print(classification_report(target_test,extratrees_pred))"
   ]
  },
  {
   "cell_type": "markdown",
   "metadata": {
    "colab_type": "text",
    "id": "BB3j_Rf0TjQt"
   },
   "source": [
    "### visualizing one of the trees "
   ]
  },
  {
   "cell_type": "code",
   "execution_count": 92,
   "metadata": {
    "ExecuteTime": {
     "end_time": "2019-08-06T13:29:48.239977Z",
     "start_time": "2019-08-06T13:29:46.835372Z"
    },
    "colab": {
     "base_uri": "https://localhost:8080/",
     "height": 1000
    },
    "colab_type": "code",
    "executionInfo": {
     "elapsed": 1201,
     "status": "ok",
     "timestamp": 1564970580013,
     "user": {
      "displayName": "Harrison Miller",
      "photoUrl": "https://lh3.googleusercontent.com/-mtrv6ozYIEo/AAAAAAAAAAI/AAAAAAAABHM/XEWtt1y0c-U/s64/photo.jpg",
      "userId": "01074083115709093470"
     },
     "user_tz": 240
    },
    "id": "0sQU3S8vF6rT",
    "outputId": "cbbbc571-0396-4ae7-b526-36be812a8cb4"
   },
   "outputs": [
    {
     "name": "stderr",
     "output_type": "stream",
     "text": [
      "/Users/harrisonmiller/anaconda3/lib/python3.7/site-packages/sklearn/externals/six.py:31: DeprecationWarning: The module is deprecated in version 0.21 and will be removed in version 0.23 since we've dropped support for Python 2.7. Please rely on the official version of six (https://pypi.org/project/six/).\n",
      "  \"(https://pypi.org/project/six/).\", DeprecationWarning)\n"
     ]
    },
    {
     "ename": "InvocationException",
     "evalue": "GraphViz's executables not found",
     "output_type": "error",
     "traceback": [
      "\u001b[0;31m---------------------------------------------------------------------------\u001b[0m",
      "\u001b[0;31mInvocationException\u001b[0m                       Traceback (most recent call last)",
      "\u001b[0;32m<ipython-input-92-94bfe21a20c5>\u001b[0m in \u001b[0;36m<module>\u001b[0;34m\u001b[0m\n\u001b[1;32m     10\u001b[0m                 special_characters=True)\n\u001b[1;32m     11\u001b[0m \u001b[0mgraph\u001b[0m \u001b[0;34m=\u001b[0m \u001b[0mpydotplus\u001b[0m\u001b[0;34m.\u001b[0m\u001b[0mgraph_from_dot_data\u001b[0m\u001b[0;34m(\u001b[0m\u001b[0mdot_data\u001b[0m\u001b[0;34m.\u001b[0m\u001b[0mgetvalue\u001b[0m\u001b[0;34m(\u001b[0m\u001b[0;34m)\u001b[0m\u001b[0;34m)\u001b[0m\u001b[0;34m\u001b[0m\u001b[0;34m\u001b[0m\u001b[0m\n\u001b[0;32m---> 12\u001b[0;31m \u001b[0mImage\u001b[0m\u001b[0;34m(\u001b[0m\u001b[0mgraph\u001b[0m\u001b[0;34m.\u001b[0m\u001b[0mcreate_png\u001b[0m\u001b[0;34m(\u001b[0m\u001b[0;34m)\u001b[0m\u001b[0;34m)\u001b[0m\u001b[0;34m\u001b[0m\u001b[0;34m\u001b[0m\u001b[0m\n\u001b[0m",
      "\u001b[0;32m~/anaconda3/lib/python3.7/site-packages/pydotplus/graphviz.py\u001b[0m in \u001b[0;36m<lambda>\u001b[0;34m(f, prog)\u001b[0m\n\u001b[1;32m   1795\u001b[0m             self.__setattr__(\n\u001b[1;32m   1796\u001b[0m                 \u001b[0;34m'create_'\u001b[0m \u001b[0;34m+\u001b[0m \u001b[0mfrmt\u001b[0m\u001b[0;34m,\u001b[0m\u001b[0;34m\u001b[0m\u001b[0;34m\u001b[0m\u001b[0m\n\u001b[0;32m-> 1797\u001b[0;31m                 \u001b[0;32mlambda\u001b[0m \u001b[0mf\u001b[0m\u001b[0;34m=\u001b[0m\u001b[0mfrmt\u001b[0m\u001b[0;34m,\u001b[0m \u001b[0mprog\u001b[0m\u001b[0;34m=\u001b[0m\u001b[0mself\u001b[0m\u001b[0;34m.\u001b[0m\u001b[0mprog\u001b[0m\u001b[0;34m:\u001b[0m \u001b[0mself\u001b[0m\u001b[0;34m.\u001b[0m\u001b[0mcreate\u001b[0m\u001b[0;34m(\u001b[0m\u001b[0mformat\u001b[0m\u001b[0;34m=\u001b[0m\u001b[0mf\u001b[0m\u001b[0;34m,\u001b[0m \u001b[0mprog\u001b[0m\u001b[0;34m=\u001b[0m\u001b[0mprog\u001b[0m\u001b[0;34m)\u001b[0m\u001b[0;34m\u001b[0m\u001b[0;34m\u001b[0m\u001b[0m\n\u001b[0m\u001b[1;32m   1798\u001b[0m             )\n\u001b[1;32m   1799\u001b[0m             \u001b[0mf\u001b[0m \u001b[0;34m=\u001b[0m \u001b[0mself\u001b[0m\u001b[0;34m.\u001b[0m\u001b[0m__dict__\u001b[0m\u001b[0;34m[\u001b[0m\u001b[0;34m'create_'\u001b[0m \u001b[0;34m+\u001b[0m \u001b[0mfrmt\u001b[0m\u001b[0;34m]\u001b[0m\u001b[0;34m\u001b[0m\u001b[0;34m\u001b[0m\u001b[0m\n",
      "\u001b[0;32m~/anaconda3/lib/python3.7/site-packages/pydotplus/graphviz.py\u001b[0m in \u001b[0;36mcreate\u001b[0;34m(self, prog, format)\u001b[0m\n\u001b[1;32m   1958\u001b[0m             \u001b[0;32mif\u001b[0m \u001b[0mself\u001b[0m\u001b[0;34m.\u001b[0m\u001b[0mprogs\u001b[0m \u001b[0;32mis\u001b[0m \u001b[0;32mNone\u001b[0m\u001b[0;34m:\u001b[0m\u001b[0;34m\u001b[0m\u001b[0;34m\u001b[0m\u001b[0m\n\u001b[1;32m   1959\u001b[0m                 raise InvocationException(\n\u001b[0;32m-> 1960\u001b[0;31m                     'GraphViz\\'s executables not found')\n\u001b[0m\u001b[1;32m   1961\u001b[0m \u001b[0;34m\u001b[0m\u001b[0m\n\u001b[1;32m   1962\u001b[0m         \u001b[0;32mif\u001b[0m \u001b[0mprog\u001b[0m \u001b[0;32mnot\u001b[0m \u001b[0;32min\u001b[0m \u001b[0mself\u001b[0m\u001b[0;34m.\u001b[0m\u001b[0mprogs\u001b[0m\u001b[0;34m:\u001b[0m\u001b[0;34m\u001b[0m\u001b[0;34m\u001b[0m\u001b[0m\n",
      "\u001b[0;31mInvocationException\u001b[0m: GraphViz's executables not found"
     ]
    }
   ],
   "source": [
    "from sklearn.externals.six import StringIO  \n",
    "from IPython.display import Image  \n",
    "from sklearn.tree import export_graphviz\n",
    "import pydotplus\n",
    "import os     \n",
    "os.environ[\"PATH\"] += os.pathsep + 'Macintosh HD⁩/⁨Users⁩/harrisonmiller⁩/anaconda3⁩/⁨envs⁩/learn-env⁩/lib⁩/⁨python3.6⁩/site-packages⁩'\n",
    "dot_data = StringIO()\n",
    "export_graphviz(extratrees.estimators_[0], out_file=dot_data,  \n",
    "                filled=True, rounded=True,\n",
    "                special_characters=True)\n",
    "graph = pydotplus.graph_from_dot_data(dot_data.getvalue())  \n",
    "Image(graph.create_png())"
   ]
  },
  {
   "cell_type": "markdown",
   "metadata": {
    "colab": {},
    "colab_type": "code",
    "id": "h13-kPN4Hl1C"
   },
   "source": [
    "### ROC, PRECISION-RECALL GRAPHS"
   ]
  },
  {
   "cell_type": "code",
   "execution_count": null,
   "metadata": {},
   "outputs": [],
   "source": []
  },
  {
   "cell_type": "code",
   "execution_count": 21,
   "metadata": {
    "ExecuteTime": {
     "end_time": "2019-08-06T13:14:47.946620Z",
     "start_time": "2019-08-06T13:14:47.886758Z"
    }
   },
   "outputs": [
    {
     "ename": "ValueError",
     "evalue": "Expected 2D array, got 1D array instead:\narray=[2. 2. 2. 4. 2. 2. 4. 2. 2. 2. 4. 4. 2. 4. 4. 4. 2. 2. 2. 2. 2. 4. 4. 2.\n 4. 2. 4. 2. 2. 2. 2. 4. 4. 4. 4. 4. 2. 4. 2. 2. 2. 2. 2. 2. 2. 4. 2. 2.\n 2. 2. 2. 2. 4. 2. 4. 4. 4. 2. 2. 4. 2. 2. 2. 2. 2. 2. 2. 4. 2. 2. 2. 2.\n 2. 2. 4. 4. 2. 2. 2. 2. 4. 4. 2. 4. 2. 2. 2. 4. 4. 2. 4. 2. 2. 2. 2. 4.\n 2. 2. 2. 2. 2. 2. 4. 2. 2. 4. 4. 2. 4. 2. 4. 2. 2. 2. 2. 2. 2. 2. 2. 2.\n 2. 4. 4. 4. 2. 4. 2. 4. 2. 2. 2. 4. 4. 2. 4. 2. 2. 2. 4. 4. 2. 4. 2. 2.\n 2. 4. 2. 4. 2. 2. 2. 2. 2. 4. 2. 2. 2. 2. 2. 2. 2. 4. 2. 2. 4. 4. 2. 2.\n 2. 2. 2. 4. 4. 2. 2.].\nReshape your data either using array.reshape(-1, 1) if your data has a single feature or array.reshape(1, -1) if it contains a single sample.",
     "output_type": "error",
     "traceback": [
      "\u001b[0;31m---------------------------------------------------------------------------\u001b[0m",
      "\u001b[0;31mValueError\u001b[0m                                Traceback (most recent call last)",
      "\u001b[0;32m<ipython-input-21-13244b50a58a>\u001b[0m in \u001b[0;36m<module>\u001b[0;34m\u001b[0m\n\u001b[1;32m      2\u001b[0m \u001b[0;32mfrom\u001b[0m \u001b[0msklearn\u001b[0m\u001b[0;34m.\u001b[0m\u001b[0mmetrics\u001b[0m \u001b[0;32mimport\u001b[0m \u001b[0mroc_curve\u001b[0m\u001b[0;34m\u001b[0m\u001b[0;34m\u001b[0m\u001b[0m\n\u001b[1;32m      3\u001b[0m \u001b[0;32mfrom\u001b[0m \u001b[0msklearn\u001b[0m\u001b[0;34m.\u001b[0m\u001b[0mmetrics\u001b[0m \u001b[0;32mimport\u001b[0m \u001b[0mroc_auc_score\u001b[0m\u001b[0;34m\u001b[0m\u001b[0;34m\u001b[0m\u001b[0m\n\u001b[0;32m----> 4\u001b[0;31m \u001b[0mprobs\u001b[0m \u001b[0;34m=\u001b[0m \u001b[0mextratrees\u001b[0m\u001b[0;34m.\u001b[0m\u001b[0mpredict_proba\u001b[0m\u001b[0;34m(\u001b[0m\u001b[0mtarget_test\u001b[0m\u001b[0;34m)\u001b[0m\u001b[0;34m\u001b[0m\u001b[0;34m\u001b[0m\u001b[0m\n\u001b[0m\u001b[1;32m      5\u001b[0m \u001b[0mprobs\u001b[0m \u001b[0;34m=\u001b[0m \u001b[0mprobs\u001b[0m\u001b[0;34m[\u001b[0m\u001b[0;34m:\u001b[0m\u001b[0;34m,\u001b[0m\u001b[0;36m1\u001b[0m\u001b[0;34m]\u001b[0m\u001b[0;34m\u001b[0m\u001b[0;34m\u001b[0m\u001b[0m\n\u001b[1;32m      6\u001b[0m \u001b[0mfpr\u001b[0m\u001b[0;34m,\u001b[0m \u001b[0mtpr\u001b[0m\u001b[0;34m,\u001b[0m \u001b[0mthresholds\u001b[0m \u001b[0;34m=\u001b[0m \u001b[0mroc_curve\u001b[0m\u001b[0;34m(\u001b[0m\u001b[0mtarget_test\u001b[0m\u001b[0;34m,\u001b[0m\u001b[0mprobs\u001b[0m\u001b[0;34m)\u001b[0m\u001b[0;34m\u001b[0m\u001b[0;34m\u001b[0m\u001b[0m\n",
      "\u001b[0;32m~/anaconda3/lib/python3.7/site-packages/sklearn/ensemble/forest.py\u001b[0m in \u001b[0;36mpredict_proba\u001b[0;34m(self, X)\u001b[0m\n\u001b[1;32m    586\u001b[0m         \u001b[0mcheck_is_fitted\u001b[0m\u001b[0;34m(\u001b[0m\u001b[0mself\u001b[0m\u001b[0;34m,\u001b[0m \u001b[0;34m'estimators_'\u001b[0m\u001b[0;34m)\u001b[0m\u001b[0;34m\u001b[0m\u001b[0;34m\u001b[0m\u001b[0m\n\u001b[1;32m    587\u001b[0m         \u001b[0;31m# Check data\u001b[0m\u001b[0;34m\u001b[0m\u001b[0;34m\u001b[0m\u001b[0;34m\u001b[0m\u001b[0m\n\u001b[0;32m--> 588\u001b[0;31m         \u001b[0mX\u001b[0m \u001b[0;34m=\u001b[0m \u001b[0mself\u001b[0m\u001b[0;34m.\u001b[0m\u001b[0m_validate_X_predict\u001b[0m\u001b[0;34m(\u001b[0m\u001b[0mX\u001b[0m\u001b[0;34m)\u001b[0m\u001b[0;34m\u001b[0m\u001b[0;34m\u001b[0m\u001b[0m\n\u001b[0m\u001b[1;32m    589\u001b[0m \u001b[0;34m\u001b[0m\u001b[0m\n\u001b[1;32m    590\u001b[0m         \u001b[0;31m# Assign chunk of trees to jobs\u001b[0m\u001b[0;34m\u001b[0m\u001b[0;34m\u001b[0m\u001b[0;34m\u001b[0m\u001b[0m\n",
      "\u001b[0;32m~/anaconda3/lib/python3.7/site-packages/sklearn/ensemble/forest.py\u001b[0m in \u001b[0;36m_validate_X_predict\u001b[0;34m(self, X)\u001b[0m\n\u001b[1;32m    357\u001b[0m                                  \"call `fit` before exploiting the model.\")\n\u001b[1;32m    358\u001b[0m \u001b[0;34m\u001b[0m\u001b[0m\n\u001b[0;32m--> 359\u001b[0;31m         \u001b[0;32mreturn\u001b[0m \u001b[0mself\u001b[0m\u001b[0;34m.\u001b[0m\u001b[0mestimators_\u001b[0m\u001b[0;34m[\u001b[0m\u001b[0;36m0\u001b[0m\u001b[0;34m]\u001b[0m\u001b[0;34m.\u001b[0m\u001b[0m_validate_X_predict\u001b[0m\u001b[0;34m(\u001b[0m\u001b[0mX\u001b[0m\u001b[0;34m,\u001b[0m \u001b[0mcheck_input\u001b[0m\u001b[0;34m=\u001b[0m\u001b[0;32mTrue\u001b[0m\u001b[0;34m)\u001b[0m\u001b[0;34m\u001b[0m\u001b[0;34m\u001b[0m\u001b[0m\n\u001b[0m\u001b[1;32m    360\u001b[0m \u001b[0;34m\u001b[0m\u001b[0m\n\u001b[1;32m    361\u001b[0m     \u001b[0;34m@\u001b[0m\u001b[0mproperty\u001b[0m\u001b[0;34m\u001b[0m\u001b[0;34m\u001b[0m\u001b[0m\n",
      "\u001b[0;32m~/anaconda3/lib/python3.7/site-packages/sklearn/tree/tree.py\u001b[0m in \u001b[0;36m_validate_X_predict\u001b[0;34m(self, X, check_input)\u001b[0m\n\u001b[1;32m    389\u001b[0m         \u001b[0;34m\"\"\"Validate X whenever one tries to predict, apply, predict_proba\"\"\"\u001b[0m\u001b[0;34m\u001b[0m\u001b[0;34m\u001b[0m\u001b[0m\n\u001b[1;32m    390\u001b[0m         \u001b[0;32mif\u001b[0m \u001b[0mcheck_input\u001b[0m\u001b[0;34m:\u001b[0m\u001b[0;34m\u001b[0m\u001b[0;34m\u001b[0m\u001b[0m\n\u001b[0;32m--> 391\u001b[0;31m             \u001b[0mX\u001b[0m \u001b[0;34m=\u001b[0m \u001b[0mcheck_array\u001b[0m\u001b[0;34m(\u001b[0m\u001b[0mX\u001b[0m\u001b[0;34m,\u001b[0m \u001b[0mdtype\u001b[0m\u001b[0;34m=\u001b[0m\u001b[0mDTYPE\u001b[0m\u001b[0;34m,\u001b[0m \u001b[0maccept_sparse\u001b[0m\u001b[0;34m=\u001b[0m\u001b[0;34m\"csr\"\u001b[0m\u001b[0;34m)\u001b[0m\u001b[0;34m\u001b[0m\u001b[0;34m\u001b[0m\u001b[0m\n\u001b[0m\u001b[1;32m    392\u001b[0m             if issparse(X) and (X.indices.dtype != np.intc or\n\u001b[1;32m    393\u001b[0m                                 X.indptr.dtype != np.intc):\n",
      "\u001b[0;32m~/anaconda3/lib/python3.7/site-packages/sklearn/utils/validation.py\u001b[0m in \u001b[0;36mcheck_array\u001b[0;34m(array, accept_sparse, accept_large_sparse, dtype, order, copy, force_all_finite, ensure_2d, allow_nd, ensure_min_samples, ensure_min_features, warn_on_dtype, estimator)\u001b[0m\n\u001b[1;32m    519\u001b[0m                     \u001b[0;34m\"Reshape your data either using array.reshape(-1, 1) if \"\u001b[0m\u001b[0;34m\u001b[0m\u001b[0;34m\u001b[0m\u001b[0m\n\u001b[1;32m    520\u001b[0m                     \u001b[0;34m\"your data has a single feature or array.reshape(1, -1) \"\u001b[0m\u001b[0;34m\u001b[0m\u001b[0;34m\u001b[0m\u001b[0m\n\u001b[0;32m--> 521\u001b[0;31m                     \"if it contains a single sample.\".format(array))\n\u001b[0m\u001b[1;32m    522\u001b[0m \u001b[0;34m\u001b[0m\u001b[0m\n\u001b[1;32m    523\u001b[0m         \u001b[0;31m# in the future np.flexible dtypes will be handled like object dtypes\u001b[0m\u001b[0;34m\u001b[0m\u001b[0;34m\u001b[0m\u001b[0;34m\u001b[0m\u001b[0m\n",
      "\u001b[0;31mValueError\u001b[0m: Expected 2D array, got 1D array instead:\narray=[2. 2. 2. 4. 2. 2. 4. 2. 2. 2. 4. 4. 2. 4. 4. 4. 2. 2. 2. 2. 2. 4. 4. 2.\n 4. 2. 4. 2. 2. 2. 2. 4. 4. 4. 4. 4. 2. 4. 2. 2. 2. 2. 2. 2. 2. 4. 2. 2.\n 2. 2. 2. 2. 4. 2. 4. 4. 4. 2. 2. 4. 2. 2. 2. 2. 2. 2. 2. 4. 2. 2. 2. 2.\n 2. 2. 4. 4. 2. 2. 2. 2. 4. 4. 2. 4. 2. 2. 2. 4. 4. 2. 4. 2. 2. 2. 2. 4.\n 2. 2. 2. 2. 2. 2. 4. 2. 2. 4. 4. 2. 4. 2. 4. 2. 2. 2. 2. 2. 2. 2. 2. 2.\n 2. 4. 4. 4. 2. 4. 2. 4. 2. 2. 2. 4. 4. 2. 4. 2. 2. 2. 4. 4. 2. 4. 2. 2.\n 2. 4. 2. 4. 2. 2. 2. 2. 2. 4. 2. 2. 2. 2. 2. 2. 2. 4. 2. 2. 4. 4. 2. 2.\n 2. 2. 2. 4. 4. 2. 2.].\nReshape your data either using array.reshape(-1, 1) if your data has a single feature or array.reshape(1, -1) if it contains a single sample."
     ]
    }
   ],
   "source": [
    "\n",
    "#calculate ROC curve\n",
    "from sklearn.metrics import roc_curve\n",
    "from sklearn.metrics import roc_auc_score\n",
    "probs = extratrees.predict_proba(features_test)\n",
    "probs = probs[:,1]\n",
    "fpr, tpr, thresholds = roc_curve(target_test,probs, pos_label= 4)\n",
    "plt.plot([0,1],[0,1], linestyle='--')\n",
    "plt.plot(fpr, tpr, marker = '.')\n",
    "plt.show()"
   ]
  },
  {
   "cell_type": "code",
   "execution_count": null,
   "metadata": {},
   "outputs": [],
   "source": [
    "#calculate Precision-Recall curve\n",
    "from sklearn.metrics import precision_recall_curve\n",
    "from sklearn.metrics import f1_score\n",
    "from sklearn.metrics import auc\n",
    "from sklearn.metrics import average_precision_score\n",
    "probs = model.predict_proba(testx)\n",
    "probs = probs[:,2]\n",
    "yhat = model.predict(testx)\n",
    "precision, recall, thresholds = precision_recall_curve(testy,probs)\n",
    "plt.plot([0,1],[0,1], linestyle='--')\n",
    "pyplot.plot(recall,precision, marker ='.')\n",
    "pyplot.show()"
   ]
  }
 ],
 "metadata": {
  "accelerator": "GPU",
  "colab": {
   "collapsed_sections": [
    "vyRSkd_jWI_8",
    "kkf7AxLiOkZT",
    "o1ViKVitOfVn",
    "T6l0nHMpOVN9",
    "eTxzl78pZCEA",
    "F_I2XBEqN5Ou",
    "HS5ZIe2YPiWP",
    "pous74_CA3pl",
    "BB3j_Rf0TjQt"
   ],
   "name": "FNA BC Classification.ipynb",
   "provenance": [],
   "toc_visible": true,
   "version": "0.3.2"
  },
  "kernelspec": {
   "display_name": "learn-env",
   "language": "python",
   "name": "learn-env"
  },
  "language_info": {
   "codemirror_mode": {
    "name": "ipython",
    "version": 3
   },
   "file_extension": ".py",
   "mimetype": "text/x-python",
   "name": "python",
   "nbconvert_exporter": "python",
   "pygments_lexer": "ipython3",
   "version": "3.7.3"
  },
  "toc": {
   "base_numbering": 1,
   "nav_menu": {},
   "number_sections": true,
   "sideBar": true,
   "skip_h1_title": false,
   "title_cell": "Table of Contents",
   "title_sidebar": "Contents",
   "toc_cell": false,
   "toc_position": {},
   "toc_section_display": true,
   "toc_window_display": true
  },
  "varInspector": {
   "cols": {
    "lenName": 16,
    "lenType": 16,
    "lenVar": 40
   },
   "kernels_config": {
    "python": {
     "delete_cmd_postfix": "",
     "delete_cmd_prefix": "del ",
     "library": "var_list.py",
     "varRefreshCmd": "print(var_dic_list())"
    },
    "r": {
     "delete_cmd_postfix": ") ",
     "delete_cmd_prefix": "rm(",
     "library": "var_list.r",
     "varRefreshCmd": "cat(var_dic_list()) "
    }
   },
   "types_to_exclude": [
    "module",
    "function",
    "builtin_function_or_method",
    "instance",
    "_Feature"
   ],
   "window_display": false
  }
 },
 "nbformat": 4,
 "nbformat_minor": 4
}
