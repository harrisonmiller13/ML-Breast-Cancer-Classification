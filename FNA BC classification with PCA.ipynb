{
 "cells": [
  {
   "cell_type": "code",
   "execution_count": 195,
   "metadata": {},
   "outputs": [],
   "source": [
    "import numpy as np\n",
    "import pandas as pd\n",
    "import matplotlib.pyplot as plt\n",
    "import seaborn as sns\n",
    "sns.set()\n",
    "from sklearn.model_selection import train_test_split\n",
    "from sklearn.decomposition import PCA\n",
    "from sklearn.preprocessing import StandardScaler\n",
    "import pandas as pd\n",
    "import matplotlib.pyplot as plt\n",
    "import seaborn as sns  \n",
    "import numpy as np\n",
    "import tpot as tp\n",
    "import imblearn\n",
    "from collections import Counter\n",
    "from tpot import TPOTClassifier\n",
    "from imblearn.under_sampling import RandomUnderSampler, TomekLinks, ClusterCentroids \n",
    "from imblearn.over_sampling import RandomOverSampler, SMOTE, ADASYN \n",
    "from imblearn.combine import SMOTETomek, SMOTEENN\n",
    "from sklearn.decomposition import PCA\n",
    "from sklearn.model_selection import train_test_split\n",
    "from sklearn.metrics import accuracy_score, confusion_matrix, classification_report\n",
    "from sklearn.tree import DecisionTreeClassifier\n",
    "from sklearn.ensemble import BaggingClassifier, RandomForestClassifier, ExtraTreesClassifier\n",
    "from xgboost import XGBClassifier\n",
    "sns.set()"
   ]
  },
  {
   "cell_type": "code",
   "execution_count": 136,
   "metadata": {},
   "outputs": [
    {
     "data": {
      "text/plain": [
       "Clump Thickness                  0\n",
       "Uniformity of Cell Size          0\n",
       "Uniformity of Cell Shape         0\n",
       "Marginal Adhesion                0\n",
       "Single Epithelial Cell Size      0\n",
       "Bare Nuclei                      0\n",
       "Bland Chromatin                  0\n",
       "Normal Nucleoli                  0\n",
       "Mitosis                          0\n",
       "Class                            0\n",
       "radius                         130\n",
       "mean_radius                    130\n",
       "texture                        130\n",
       "mean_texture                   130\n",
       "perimeter                      130\n",
       "mean_perimeter                 130\n",
       "area                           130\n",
       "mean_area                      130\n",
       "smoothness                     130\n",
       "mean_smoothness                130\n",
       "compactness                    130\n",
       "mean_compactness               130\n",
       "concavity                      130\n",
       "mean_concavity                 130\n",
       "concave_points                 130\n",
       "mean_concave_points            130\n",
       "symmetry                       130\n",
       "mean_symmetry                  130\n",
       "fractal_dimension              130\n",
       "mean_fractal_dimension         130\n",
       "dtype: int64"
      ]
     },
     "execution_count": 136,
     "metadata": {},
     "output_type": "execute_result"
    }
   ],
   "source": [
    "bc2.isnull().sum()"
   ]
  },
  {
   "cell_type": "code",
   "execution_count": 137,
   "metadata": {},
   "outputs": [],
   "source": [
    "bc2 = pd.read_csv('bc_data.csv', header = [1])\n",
    "bc2.drop(['Diagnosis','id_number.1'], axis = 1, inplace = True)\n",
    "bc2.set_index('id_number', inplace = True)\n",
    "bc_data_with_dummies = pd.get_dummies(bc2)"
   ]
  },
  {
   "cell_type": "code",
   "execution_count": 138,
   "metadata": {},
   "outputs": [],
   "source": [
    "bc_data_full = bc_data_with_dummies.interpolate(method = 'linear',axis = 1)"
   ]
  },
  {
   "cell_type": "code",
   "execution_count": 139,
   "metadata": {},
   "outputs": [
    {
     "data": {
      "text/html": [
       "<div>\n",
       "<style scoped>\n",
       "    .dataframe tbody tr th:only-of-type {\n",
       "        vertical-align: middle;\n",
       "    }\n",
       "\n",
       "    .dataframe tbody tr th {\n",
       "        vertical-align: top;\n",
       "    }\n",
       "\n",
       "    .dataframe thead th {\n",
       "        text-align: right;\n",
       "    }\n",
       "</style>\n",
       "<table border=\"1\" class=\"dataframe\">\n",
       "  <thead>\n",
       "    <tr style=\"text-align: right;\">\n",
       "      <th></th>\n",
       "      <th>Clump Thickness</th>\n",
       "      <th>Uniformity of Cell Size</th>\n",
       "      <th>Uniformity of Cell Shape</th>\n",
       "      <th>Marginal Adhesion</th>\n",
       "      <th>Single Epithelial Cell Size</th>\n",
       "      <th>Bland Chromatin</th>\n",
       "      <th>Normal Nucleoli</th>\n",
       "      <th>Mitosis</th>\n",
       "      <th>Class</th>\n",
       "      <th>radius</th>\n",
       "      <th>...</th>\n",
       "      <th>Bare Nuclei_10</th>\n",
       "      <th>Bare Nuclei_2</th>\n",
       "      <th>Bare Nuclei_3</th>\n",
       "      <th>Bare Nuclei_4</th>\n",
       "      <th>Bare Nuclei_5</th>\n",
       "      <th>Bare Nuclei_6</th>\n",
       "      <th>Bare Nuclei_7</th>\n",
       "      <th>Bare Nuclei_8</th>\n",
       "      <th>Bare Nuclei_9</th>\n",
       "      <th>Bare Nuclei_?</th>\n",
       "    </tr>\n",
       "    <tr>\n",
       "      <th>id_number</th>\n",
       "      <th></th>\n",
       "      <th></th>\n",
       "      <th></th>\n",
       "      <th></th>\n",
       "      <th></th>\n",
       "      <th></th>\n",
       "      <th></th>\n",
       "      <th></th>\n",
       "      <th></th>\n",
       "      <th></th>\n",
       "      <th></th>\n",
       "      <th></th>\n",
       "      <th></th>\n",
       "      <th></th>\n",
       "      <th></th>\n",
       "      <th></th>\n",
       "      <th></th>\n",
       "      <th></th>\n",
       "      <th></th>\n",
       "      <th></th>\n",
       "      <th></th>\n",
       "    </tr>\n",
       "  </thead>\n",
       "  <tbody>\n",
       "    <tr>\n",
       "      <th>1000025</th>\n",
       "      <td>5.0</td>\n",
       "      <td>1.0</td>\n",
       "      <td>1.0</td>\n",
       "      <td>1.0</td>\n",
       "      <td>2.0</td>\n",
       "      <td>3.0</td>\n",
       "      <td>1.0</td>\n",
       "      <td>1.0</td>\n",
       "      <td>2.0</td>\n",
       "      <td>17.99</td>\n",
       "      <td>...</td>\n",
       "      <td>0.0</td>\n",
       "      <td>0.0</td>\n",
       "      <td>0.0</td>\n",
       "      <td>0.0</td>\n",
       "      <td>0.0</td>\n",
       "      <td>0.0</td>\n",
       "      <td>0.0</td>\n",
       "      <td>0.0</td>\n",
       "      <td>0.0</td>\n",
       "      <td>0.0</td>\n",
       "    </tr>\n",
       "    <tr>\n",
       "      <th>1002945</th>\n",
       "      <td>5.0</td>\n",
       "      <td>4.0</td>\n",
       "      <td>4.0</td>\n",
       "      <td>5.0</td>\n",
       "      <td>7.0</td>\n",
       "      <td>3.0</td>\n",
       "      <td>2.0</td>\n",
       "      <td>1.0</td>\n",
       "      <td>2.0</td>\n",
       "      <td>20.57</td>\n",
       "      <td>...</td>\n",
       "      <td>1.0</td>\n",
       "      <td>0.0</td>\n",
       "      <td>0.0</td>\n",
       "      <td>0.0</td>\n",
       "      <td>0.0</td>\n",
       "      <td>0.0</td>\n",
       "      <td>0.0</td>\n",
       "      <td>0.0</td>\n",
       "      <td>0.0</td>\n",
       "      <td>0.0</td>\n",
       "    </tr>\n",
       "    <tr>\n",
       "      <th>1015425</th>\n",
       "      <td>3.0</td>\n",
       "      <td>1.0</td>\n",
       "      <td>1.0</td>\n",
       "      <td>1.0</td>\n",
       "      <td>2.0</td>\n",
       "      <td>3.0</td>\n",
       "      <td>1.0</td>\n",
       "      <td>1.0</td>\n",
       "      <td>2.0</td>\n",
       "      <td>19.69</td>\n",
       "      <td>...</td>\n",
       "      <td>0.0</td>\n",
       "      <td>1.0</td>\n",
       "      <td>0.0</td>\n",
       "      <td>0.0</td>\n",
       "      <td>0.0</td>\n",
       "      <td>0.0</td>\n",
       "      <td>0.0</td>\n",
       "      <td>0.0</td>\n",
       "      <td>0.0</td>\n",
       "      <td>0.0</td>\n",
       "    </tr>\n",
       "    <tr>\n",
       "      <th>1016277</th>\n",
       "      <td>6.0</td>\n",
       "      <td>8.0</td>\n",
       "      <td>8.0</td>\n",
       "      <td>1.0</td>\n",
       "      <td>3.0</td>\n",
       "      <td>3.0</td>\n",
       "      <td>7.0</td>\n",
       "      <td>1.0</td>\n",
       "      <td>2.0</td>\n",
       "      <td>11.42</td>\n",
       "      <td>...</td>\n",
       "      <td>0.0</td>\n",
       "      <td>0.0</td>\n",
       "      <td>0.0</td>\n",
       "      <td>1.0</td>\n",
       "      <td>0.0</td>\n",
       "      <td>0.0</td>\n",
       "      <td>0.0</td>\n",
       "      <td>0.0</td>\n",
       "      <td>0.0</td>\n",
       "      <td>0.0</td>\n",
       "    </tr>\n",
       "    <tr>\n",
       "      <th>1017023</th>\n",
       "      <td>4.0</td>\n",
       "      <td>1.0</td>\n",
       "      <td>1.0</td>\n",
       "      <td>3.0</td>\n",
       "      <td>2.0</td>\n",
       "      <td>3.0</td>\n",
       "      <td>1.0</td>\n",
       "      <td>1.0</td>\n",
       "      <td>2.0</td>\n",
       "      <td>20.29</td>\n",
       "      <td>...</td>\n",
       "      <td>0.0</td>\n",
       "      <td>0.0</td>\n",
       "      <td>0.0</td>\n",
       "      <td>0.0</td>\n",
       "      <td>0.0</td>\n",
       "      <td>0.0</td>\n",
       "      <td>0.0</td>\n",
       "      <td>0.0</td>\n",
       "      <td>0.0</td>\n",
       "      <td>0.0</td>\n",
       "    </tr>\n",
       "  </tbody>\n",
       "</table>\n",
       "<p>5 rows × 40 columns</p>\n",
       "</div>"
      ],
      "text/plain": [
       "           Clump Thickness  Uniformity of Cell Size  Uniformity of Cell Shape  \\\n",
       "id_number                                                                       \n",
       "1000025                5.0                      1.0                       1.0   \n",
       "1002945                5.0                      4.0                       4.0   \n",
       "1015425                3.0                      1.0                       1.0   \n",
       "1016277                6.0                      8.0                       8.0   \n",
       "1017023                4.0                      1.0                       1.0   \n",
       "\n",
       "           Marginal Adhesion  Single Epithelial Cell Size  Bland Chromatin  \\\n",
       "id_number                                                                    \n",
       "1000025                  1.0                          2.0              3.0   \n",
       "1002945                  5.0                          7.0              3.0   \n",
       "1015425                  1.0                          2.0              3.0   \n",
       "1016277                  1.0                          3.0              3.0   \n",
       "1017023                  3.0                          2.0              3.0   \n",
       "\n",
       "           Normal Nucleoli  Mitosis  Class  radius  ...  Bare Nuclei_10  \\\n",
       "id_number                                           ...                   \n",
       "1000025                1.0      1.0    2.0   17.99  ...             0.0   \n",
       "1002945                2.0      1.0    2.0   20.57  ...             1.0   \n",
       "1015425                1.0      1.0    2.0   19.69  ...             0.0   \n",
       "1016277                7.0      1.0    2.0   11.42  ...             0.0   \n",
       "1017023                1.0      1.0    2.0   20.29  ...             0.0   \n",
       "\n",
       "           Bare Nuclei_2  Bare Nuclei_3  Bare Nuclei_4  Bare Nuclei_5  \\\n",
       "id_number                                                               \n",
       "1000025              0.0            0.0            0.0            0.0   \n",
       "1002945              0.0            0.0            0.0            0.0   \n",
       "1015425              1.0            0.0            0.0            0.0   \n",
       "1016277              0.0            0.0            1.0            0.0   \n",
       "1017023              0.0            0.0            0.0            0.0   \n",
       "\n",
       "           Bare Nuclei_6  Bare Nuclei_7  Bare Nuclei_8  Bare Nuclei_9  \\\n",
       "id_number                                                               \n",
       "1000025              0.0            0.0            0.0            0.0   \n",
       "1002945              0.0            0.0            0.0            0.0   \n",
       "1015425              0.0            0.0            0.0            0.0   \n",
       "1016277              0.0            0.0            0.0            0.0   \n",
       "1017023              0.0            0.0            0.0            0.0   \n",
       "\n",
       "           Bare Nuclei_?  \n",
       "id_number                 \n",
       "1000025              0.0  \n",
       "1002945              0.0  \n",
       "1015425              0.0  \n",
       "1016277              0.0  \n",
       "1017023              0.0  \n",
       "\n",
       "[5 rows x 40 columns]"
      ]
     },
     "execution_count": 139,
     "metadata": {},
     "output_type": "execute_result"
    }
   ],
   "source": [
    "bc_data_full.head()"
   ]
  },
  {
   "cell_type": "code",
   "execution_count": 164,
   "metadata": {},
   "outputs": [
    {
     "data": {
      "text/plain": [
       "Index(['Clump Thickness', 'Uniformity of Cell Size',\n",
       "       'Uniformity of Cell Shape', 'Marginal Adhesion',\n",
       "       'Single Epithelial Cell Size', 'Bland Chromatin', 'Normal Nucleoli',\n",
       "       'Mitosis', 'Class', 'radius', 'mean_radius', 'texture', 'mean_texture',\n",
       "       'perimeter', 'mean_perimeter', 'area', 'mean_area', 'smoothness',\n",
       "       'mean_smoothness', 'compactness', 'mean_compactness', 'concavity',\n",
       "       'mean_concavity', 'concave_points', 'mean_concave_points', 'symmetry',\n",
       "       'mean_symmetry', 'fractal_dimension', 'mean_fractal_dimension',\n",
       "       'Bare Nuclei_1', 'Bare Nuclei_10', 'Bare Nuclei_2', 'Bare Nuclei_3',\n",
       "       'Bare Nuclei_4', 'Bare Nuclei_5', 'Bare Nuclei_6', 'Bare Nuclei_7',\n",
       "       'Bare Nuclei_8', 'Bare Nuclei_9', 'Bare Nuclei_?'],\n",
       "      dtype='object')"
      ]
     },
     "execution_count": 164,
     "metadata": {},
     "output_type": "execute_result"
    }
   ],
   "source": [
    "bc_data_full.columns"
   ]
  },
  {
   "cell_type": "code",
   "execution_count": 75,
   "metadata": {},
   "outputs": [],
   "source": [
    "def plot_2d_space(X, y, label='Classes'):   \n",
    "    colors = ['#1F77B4', '#FF7F0E']\n",
    "    markers = ['o', 's']\n",
    "    for l, c, m in zip(np.unique(y), colors, markers):\n",
    "        plt.scatter(\n",
    "            X[y==l, 0],\n",
    "            X[y==l, 1],\n",
    "            c=c, label=l, marker=m\n",
    "        )\n",
    "    plt.title(label)\n",
    "    plt.legend(loc='upper right')\n",
    "    plt.show()"
   ]
  },
  {
   "cell_type": "code",
   "execution_count": 167,
   "metadata": {},
   "outputs": [],
   "source": [
    "#split into training and testing set\n",
    "features = ['Clump Thickness', 'Uniformity of Cell Size',\n",
    "       'Uniformity of Cell Shape', 'Marginal Adhesion',\n",
    "       'Single Epithelial Cell Size', 'Bland Chromatin', 'Normal Nucleoli',\n",
    "       'Mitosis', 'radius', 'mean_radius', 'texture', 'mean_texture',\n",
    "       'perimeter', 'mean_perimeter', 'area', 'mean_area', 'smoothness',\n",
    "       'mean_smoothness', 'compactness', 'mean_compactness', 'concavity',\n",
    "       'mean_concavity', 'concave_points', 'mean_concave_points', 'symmetry',\n",
    "       'mean_symmetry', 'fractal_dimension', 'mean_fractal_dimension',\n",
    "       'Bare Nuclei_1', 'Bare Nuclei_10', 'Bare Nuclei_2', 'Bare Nuclei_3',\n",
    "       'Bare Nuclei_4', 'Bare Nuclei_5', 'Bare Nuclei_6', 'Bare Nuclei_7',\n",
    "       'Bare Nuclei_8', 'Bare Nuclei_9', 'Bare Nuclei_?']\n",
    "X = bc_data_full[features]\n",
    "y = bc_data_full['Class']\n",
    "features_train,features_test,target_train,target_test = train_test_split(X,y, test_size = .25, random_state = 1 )"
   ]
  },
  {
   "cell_type": "code",
   "execution_count": 168,
   "metadata": {},
   "outputs": [
    {
     "name": "stdout",
     "output_type": "stream",
     "text": [
      "[[ 1.24812634 -0.05678383  0.24996077 ... -0.18311355 -0.09815249\n",
      "  -0.15309311]\n",
      " [ 1.24812634  0.59716622  0.92165021 ... -0.18311355 -0.09815249\n",
      "  -0.15309311]\n",
      " [ 1.24812634  1.5780913   1.92918438 ... -0.18311355 -0.09815249\n",
      "  -0.15309311]\n",
      " ...\n",
      " [-1.24676599 -0.05678383 -0.08588396 ... -0.18311355 -0.09815249\n",
      "  -0.15309311]\n",
      " [-0.53393961 -0.71073388  0.24996077 ... -0.18311355 -0.09815249\n",
      "   6.53197265]\n",
      " [ 0.53529996 -0.38375886 -0.7575734  ... -0.18311355 -0.09815249\n",
      "  -0.15309311]]\n"
     ]
    }
   ],
   "source": [
    "#Standardization before applying PCA\n",
    "scaler = StandardScaler()\n",
    "X_train = scaler.fit_transform(features_train)\n",
    "print(X_train)"
   ]
  },
  {
   "cell_type": "code",
   "execution_count": null,
   "metadata": {},
   "outputs": [],
   "source": [
    "\n"
   ]
  },
  {
   "cell_type": "code",
   "execution_count": null,
   "metadata": {},
   "outputs": [],
   "source": []
  },
  {
   "cell_type": "code",
   "execution_count": 169,
   "metadata": {},
   "outputs": [],
   "source": [
    "pca_columns = ['PC1','PC2','PC3','PC4','PC5','PC6','PC7','PC8','PC9','PC10','PC11','PC12','PC13','PC14','PC15','PC16','PC17','PC18','PC19','PC20','PC21','PC22','PC23','PC24','PC25','PC26','PC27','PC28','PC29']"
   ]
  },
  {
   "cell_type": "code",
   "execution_count": 170,
   "metadata": {},
   "outputs": [
    {
     "name": "stdout",
     "output_type": "stream",
     "text": [
      "original shape:    (524, 39)\n",
      "transformed shape: (524, 29)\n",
      "Explained variation per principal component: [3.82495575e-01 1.62986727e-01 7.33323720e-02 3.24405923e-02\n",
      " 3.02020595e-02 2.95677102e-02 2.80801540e-02 2.73948168e-02\n",
      " 2.67846394e-02 2.65584993e-02 2.63982703e-02 2.61352166e-02\n",
      " 2.30229296e-02 1.93696049e-02 1.49190850e-02 1.28478226e-02\n",
      " 1.16281071e-02 9.96021439e-03 8.31837721e-03 7.86937974e-03\n",
      " 6.29411037e-03 6.07289501e-03 3.41449257e-03 2.02799630e-03\n",
      " 1.31842518e-03 2.28791684e-04 1.59863683e-04 1.00025535e-04\n",
      " 2.62971797e-05]\n"
     ]
    }
   ],
   "source": [
    "#Fitting training PCA\n",
    "pca = PCA(n_components=29)\n",
    "X_train_pca = pca.fit_transform(X_train)\n",
    "principalDF = pd.DataFrame(data = X_train_pca, columns = pca_columns )\n",
    "print(\"original shape:   \", X_train.shape)\n",
    "print(\"transformed shape:\", X_train_pca.shape)\n",
    "print('Explained variation per principal component: {}'.format(pca.explained_variance_ratio_))\n",
    "\n",
    "#plot_2d_space(pca_result, y, ' 29 PCA components')"
   ]
  },
  {
   "cell_type": "code",
   "execution_count": 166,
   "metadata": {},
   "outputs": [],
   "source": [
    "fitting testing PCA\n",
    "X_test_pca = pca.fit_transform(features_test)\n",
    "testprincipalDF = pd.DataFrame(data = X_test_pca, columns = pca_columns)\n",
    "print(\"original shape:   \", features_test.shape)\n",
    "print(\"transformed shape:\", X_test_pca.shape)\n",
    "print('Explained variation per principal component: {}'.format(pca.explained_variance_ratio_))\n",
    "\n"
   ]
  },
  {
   "cell_type": "code",
   "execution_count": 185,
   "metadata": {},
   "outputs": [
    {
     "name": "stdout",
     "output_type": "stream",
     "text": [
      "524\n",
      "210\n"
     ]
    }
   ],
   "source": [
    "print(len(principalDF))\n",
    "print(len(testprincipalDF))\n"
   ]
  },
  {
   "cell_type": "code",
   "execution_count": 172,
   "metadata": {},
   "outputs": [
    {
     "name": "stdout",
     "output_type": "stream",
     "text": [
      "[1.49458500e+01 6.36863625e+00 2.86543089e+00 1.26760219e+00\n",
      " 1.18013248e+00 1.15534556e+00 1.09721994e+00 1.07044068e+00\n",
      " 1.04659826e+00 1.03776193e+00 1.03150106e+00 1.02122235e+00\n",
      " 8.99611069e-01 7.56858980e-01 5.82956828e-01 5.02023139e-01\n",
      " 4.54363284e-01 3.89191092e-01 3.25037011e-01 3.07492628e-01\n",
      " 2.45939655e-01 2.37295760e-01 1.33419828e-01 7.92430829e-02\n",
      " 5.15168968e-02 8.93993663e-03 6.24660464e-03 3.90845476e-03\n",
      " 1.02755098e-03]\n",
      "[[-0.03448161 -0.01618502 -0.01963067 ... -0.01150041 -0.01240028\n",
      "  -0.01925216]\n",
      " [ 0.294239    0.36416576  0.36097177 ...  0.09286093  0.0410768\n",
      "  -0.0114732 ]\n",
      " [-0.03481445 -0.00694735  0.01312034 ... -0.01006279 -0.05810507\n",
      "  -0.03168157]\n",
      " ...\n",
      " [ 0.00105181 -0.01763708  0.00376703 ... -0.00067354 -0.0025298\n",
      "   0.00406315]\n",
      " [-0.00165534 -0.00850393  0.00826052 ... -0.0021773  -0.00373302\n",
      "   0.0043426 ]\n",
      " [-0.00221506 -0.00148192  0.00097179 ...  0.00123651  0.00141878\n",
      "  -0.00086797]]\n"
     ]
    }
   ],
   "source": [
    "eig_values = pca.explained_variance_\n",
    "eig_vectors = pca.components_\n",
    "print(eig_values)\n",
    "print(eig_vectors)"
   ]
  },
  {
   "cell_type": "code",
   "execution_count": 173,
   "metadata": {},
   "outputs": [
    {
     "data": {
      "text/plain": [
       "array([-3.44816080e-02, -1.61850195e-02, -1.96306715e-02, -2.14039651e-02,\n",
       "       -3.29266540e-02, -1.90207615e-02, -2.81563719e-02, -3.03333226e-02,\n",
       "       -2.25816199e-01, -2.26321678e-01, -2.31989075e-01, -1.82604589e-01,\n",
       "        2.44379468e-01,  2.44574703e-01,  2.44427861e-01,  2.47895346e-01,\n",
       "        2.49654024e-01,  2.52344840e-01,  2.07005343e-01,  5.72898216e-02,\n",
       "       -9.32807639e-02, -1.06756039e-01,  2.56174311e-01,  2.54575382e-01,\n",
       "        2.51436300e-01,  2.47957463e-01,  2.40852348e-01,  2.31358329e-01,\n",
       "        5.23473100e-02, -3.91018972e-02,  2.09141720e-04, -1.18639542e-02,\n",
       "       -2.83827295e-03, -2.08781206e-03,  1.34971963e-02, -1.61976600e-02,\n",
       "       -1.15004149e-02, -1.24002757e-02, -1.92521577e-02])"
      ]
     },
     "execution_count": 173,
     "metadata": {},
     "output_type": "execute_result"
    }
   ],
   "source": [
    "eig_vectors[0]"
   ]
  },
  {
   "cell_type": "code",
   "execution_count": 178,
   "metadata": {},
   "outputs": [
    {
     "data": {
      "image/png": "[encoded data removed]",
      "text/plain": [
       "<Figure size 1440x576 with 1 Axes>"
      ]
     },
     "metadata": {},
     "output_type": "display_data"
    }
   ],
   "source": [
    "sns.set()\n",
    "percent_variance = np.round(pca.explained_variance_ratio_* 100, decimals =2)\n",
    "plt.figure(figsize=(20,8))\n",
    "plt.bar(x= range(1,30), height=percent_variance, tick_label=pca_columns)\n",
    "plt.ylabel('Percentate of Variance Explained')\n",
    "plt.xlabel('Principal Component')\n",
    "plt.title('PCA Scree Plot')\n",
    "\n",
    "plt.show()"
   ]
  },
  {
   "cell_type": "code",
   "execution_count": 177,
   "metadata": {},
   "outputs": [
    {
     "data": {
      "image/png": "[encoded data removed]",
      "text/plain": [
       "<Figure size 1080x576 with 1 Axes>"
      ]
     },
     "metadata": {},
     "output_type": "display_data"
    }
   ],
   "source": [
    "plt.figure(figsize = (15,8))\n",
    "plt.plot(np.cumsum(pca.explained_variance_ratio_))\n",
    "plt.xlabel('Number of Components')\n",
    "plt.ylabel('Variance (%)') \n",
    "plt.title('Explained Variance')\n",
    "plt.show()"
   ]
  },
  {
   "cell_type": "code",
   "execution_count": 174,
   "metadata": {},
   "outputs": [],
   "source": [
    "#examine the components\n",
    "pc1 = pca.components_[0]\n",
    "pc2 = pca.components_[1] \n",
    "pc3 = pca.components_[2] \n",
    "pc4 = pca.components_[3] \n",
    "pc5 = pca.components_[4] \n",
    "pc6 = pca.components_[5] \n",
    "pc7 = pca.components_[6] \n",
    "pc8 = pca.components_[7] \n",
    "pc9 = pca.components_[8] \n",
    "pc10 = pca.components_[9] \n",
    "pc11 = pca.components_[10] \n",
    "pc12 = pca.components_[11] \n",
    "pc13 = pca.components_[12] \n",
    "pc14 = pca.components_[13] \n",
    "pc15 = pca.components_[14] \n",
    "pc16 = pca.components_[15] \n",
    "pc17 = pca.components_[16] \n",
    "pc18 = pca.components_[17] \n",
    "pc19 = pca.components_[18] "
   ]
  },
  {
   "cell_type": "code",
   "execution_count": 161,
   "metadata": {},
   "outputs": [],
   "source": [
    "# print(pc1)\n",
    "# print(pc2)\n",
    "# print(pc3)\n",
    "# print(pc4)\n",
    "# print(pc5)\n",
    "# print(pc6)\n",
    "# print(pc7)\n",
    "# print(pc8)\n",
    "# print(pc9)\n",
    "# print(pc10)\n",
    "# print(pc11)\n",
    "# print(pc12)\n",
    "# print(pc13)\n",
    "# print(pc14)\n",
    "# print(pc15)\n",
    "# print(pc16)\n",
    "# print(pc17)\n",
    "# print(pc18)\n",
    "# print(pc19)"
   ]
  },
  {
   "cell_type": "code",
   "execution_count": 179,
   "metadata": {},
   "outputs": [
    {
     "data": {
      "text/plain": [
       "concave_points                 0.990366\n",
       "mean_concave_points            0.984185\n",
       "mean_smoothness                0.975562\n",
       "symmetry                       0.972049\n",
       "smoothness                     0.965159\n",
       "mean_symmetry                  0.958600\n",
       "mean_area                      0.958360\n",
       "mean_perimeter                 0.945522\n",
       "area                           0.944955\n",
       "perimeter                      0.944768\n",
       "fractal_dimension              0.931132\n",
       "mean_fractal_dimension         0.894428\n",
       "compactness                    0.800280\n",
       "mean_compactness               0.221482\n",
       "Bare Nuclei_1                  0.202374\n",
       "Bare Nuclei_6                  0.052180\n",
       "Bare Nuclei_2                  0.000809\n",
       "Bare Nuclei_5                 -0.008071\n",
       "Bare Nuclei_4                 -0.010973\n",
       "Bare Nuclei_8                 -0.044460\n",
       "Bare Nuclei_3                 -0.045866\n",
       "Bare Nuclei_9                 -0.047939\n",
       "Uniformity of Cell Size       -0.062571\n",
       "Bare Nuclei_7                 -0.062620\n",
       "Bland Chromatin               -0.073534\n",
       "Bare Nuclei_?                 -0.074429\n",
       "Uniformity of Cell Shape      -0.075892\n",
       "Marginal Adhesion             -0.082747\n",
       "Normal Nucleoli               -0.108852\n",
       "Mitosis                       -0.117268\n",
       "Single Epithelial Cell Size   -0.127294\n",
       "Clump Thickness               -0.133305\n",
       "Bare Nuclei_10                -0.151167\n",
       "concavity                     -0.360622\n",
       "mean_concavity                -0.412717\n",
       "mean_texture                  -0.705947\n",
       "radius                        -0.873002\n",
       "mean_radius                   -0.874957\n",
       "texture                       -0.896867\n",
       "dtype: float64"
      ]
     },
     "execution_count": 179,
     "metadata": {},
     "output_type": "execute_result"
    }
   ],
   "source": [
    "# get the loadings\n",
    "structure_loading_1 = pc1* np.sqrt(eig_values[0])\n",
    "str_loading_1 = pd.Series(structure_loading_1, index=features)\n",
    "str_loading_1.sort_values(ascending = False)"
   ]
  },
  {
   "cell_type": "code",
   "execution_count": 188,
   "metadata": {},
   "outputs": [
    {
     "data": {
      "text/plain": [
       "pandas.core.series.Series"
      ]
     },
     "execution_count": 188,
     "metadata": {},
     "output_type": "execute_result"
    }
   ],
   "source": [
    "type(target_train)"
   ]
  },
  {
   "cell_type": "code",
   "execution_count": 190,
   "metadata": {},
   "outputs": [],
   "source": [
    "pc_to_drop = ['PC20', 'PC21', 'PC22', 'PC23', 'PC24', 'PC25', 'PC26', 'PC27', 'PC28',\n",
    "       'PC29']\n",
    "pca_train_df = principalDF.drop(pc_to_drop, axis = 1)"
   ]
  },
  {
   "cell_type": "code",
   "execution_count": 191,
   "metadata": {},
   "outputs": [
    {
     "data": {
      "text/plain": [
       "Index(['PC1', 'PC2', 'PC3', 'PC4', 'PC5', 'PC6', 'PC7', 'PC8', 'PC9', 'PC10',\n",
       "       'PC11', 'PC12', 'PC13', 'PC14', 'PC15', 'PC16', 'PC17', 'PC18', 'PC19'],\n",
       "      dtype='object')"
      ]
     },
     "execution_count": 191,
     "metadata": {},
     "output_type": "execute_result"
    }
   ],
   "source": [
    "pca_train_df.columns"
   ]
  },
  {
   "cell_type": "code",
   "execution_count": 192,
   "metadata": {},
   "outputs": [],
   "source": [
    "pca_test_df = testprincipalDF.drop(pc_to_drop, axis = 1)"
   ]
  },
  {
   "cell_type": "code",
   "execution_count": 193,
   "metadata": {},
   "outputs": [
    {
     "data": {
      "text/plain": [
       "Index(['PC1', 'PC2', 'PC3', 'PC4', 'PC5', 'PC6', 'PC7', 'PC8', 'PC9', 'PC10',\n",
       "       'PC11', 'PC12', 'PC13', 'PC14', 'PC15', 'PC16', 'PC17', 'PC18', 'PC19'],\n",
       "      dtype='object')"
      ]
     },
     "execution_count": 193,
     "metadata": {},
     "output_type": "execute_result"
    }
   ],
   "source": [
    "pca_test_df.columns"
   ]
  },
  {
   "cell_type": "code",
   "execution_count": 196,
   "metadata": {},
   "outputs": [
    {
     "name": "stdout",
     "output_type": "stream",
     "text": [
      "[(2.0, 340), (4.0, 340)]\n"
     ]
    },
    {
     "data": {
      "image/png": "[encoded data removed]",
      "text/plain": [
       "<Figure size 432x288 with 1 Axes>"
      ]
     },
     "metadata": {},
     "output_type": "display_data"
    }
   ],
   "source": [
    "\n",
    "smote = SMOTE(ratio='minority')\n",
    "X_sm, y_sm = smote.fit_sample(pca_train_df, target_train)\n",
    "print(sorted(Counter(y_sm).items()))\n",
    "\n",
    "plot_2d_space(X_sm, y_sm, 'SMOTE over-sampling')"
   ]
  },
  {
   "cell_type": "code",
   "execution_count": null,
   "metadata": {},
   "outputs": [
    {
     "data": {
      "application/vnd.jupyter.widget-view+json": {
       "model_id": "8901ada3c0c94fd8b9f35b25f811bed3",
       "version_major": 2,
       "version_minor": 0
      },
      "text/plain": [
       "HBox(children=(IntProgress(value=0, description='Optimization Progress', max=2550, style=ProgressStyle(descrip…"
      ]
     },
     "metadata": {},
     "output_type": "display_data"
    },
    {
     "name": "stdout",
     "output_type": "stream",
     "text": [
      "Generation 1 - Current best internal CV score: 0.9779411764705882\n",
      "Generation 2 - Current best internal CV score: 0.9779411764705882\n",
      "Generation 3 - Current best internal CV score: 0.9779411764705882\n",
      "Generation 4 - Current best internal CV score: 0.9779411764705882\n",
      "Generation 5 - Current best internal CV score: 0.9779411764705882\n",
      "Generation 6 - Current best internal CV score: 0.9794117647058824\n",
      "Generation 7 - Current best internal CV score: 0.9794117647058824\n",
      "Generation 8 - Current best internal CV score: 0.9794117647058824\n",
      "Generation 9 - Current best internal CV score: 0.9794117647058824\n"
     ]
    }
   ],
   "source": [
    "tpot = TPOTClassifier(generations=50, population_size= 50, cv = 10, verbosity= 2, n_jobs= 1)\n",
    "tpot.fit(X_sm,y_sm)"
   ]
  },
  {
   "cell_type": "code",
   "execution_count": null,
   "metadata": {},
   "outputs": [],
   "source": []
  }
 ],
 "metadata": {
  "kernelspec": {
   "display_name": "Python 3",
   "language": "python",
   "name": "python3"
  },
  "language_info": {
   "codemirror_mode": {
    "name": "ipython",
    "version": 3
   },
   "file_extension": ".py",
   "mimetype": "text/x-python",
   "name": "python",
   "nbconvert_exporter": "python",
   "pygments_lexer": "ipython3",
   "version": "3.7.3"
  }
 },
 "nbformat": 4,
 "nbformat_minor": 4
}
